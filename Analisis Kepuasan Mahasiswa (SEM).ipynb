{
  "cells": [
    {
      "cell_type": "markdown",
      "metadata": {
        "id": "view-in-github",
        "colab_type": "text"
      },
      "source": [
        "<a href=\"https://colab.research.google.com/github/Junswhandy/2024-js-challenge/blob/main/Analisis%20Kepuasan%20Mahasiswa%20(SEM).ipynb\" target=\"_parent\"><img src=\"https://colab.research.google.com/assets/colab-badge.svg\" alt=\"Open In Colab\"/></a>"
      ]
    },
    {
      "cell_type": "markdown",
      "metadata": {
        "id": "uXkqsSNVSFiE"
      },
      "source": [
        "# Data Preprocessing"
      ]
    },
    {
      "cell_type": "code",
      "execution_count": null,
      "metadata": {
        "collapsed": true,
        "id": "zxe5j82lAMiE",
        "colab": {
          "base_uri": "https://localhost:8080/"
        },
        "outputId": "13994563-95cc-45ca-cc6e-01f74c5432e9"
      },
      "outputs": [
        {
          "output_type": "stream",
          "name": "stdout",
          "text": [
            "Collecting semopy\n",
            "  Downloading semopy-2.3.11.tar.gz (1.6 MB)\n",
            "\u001b[2K     \u001b[90m━━━━━━━━━━━━━━━━━━━━━━━━━━━━━━━━━━━━━━━━\u001b[0m \u001b[32m1.6/1.6 MB\u001b[0m \u001b[31m14.3 MB/s\u001b[0m eta \u001b[36m0:00:00\u001b[0m\n",
            "\u001b[?25h  Preparing metadata (setup.py) ... \u001b[?25l\u001b[?25hdone\n",
            "Requirement already satisfied: scipy in /usr/local/lib/python3.11/dist-packages (from semopy) (1.14.1)\n",
            "Requirement already satisfied: numpy in /usr/local/lib/python3.11/dist-packages (from semopy) (1.26.4)\n",
            "Requirement already satisfied: pandas in /usr/local/lib/python3.11/dist-packages (from semopy) (2.2.2)\n",
            "Requirement already satisfied: sympy in /usr/local/lib/python3.11/dist-packages (from semopy) (1.13.1)\n",
            "Requirement already satisfied: scikit-learn in /usr/local/lib/python3.11/dist-packages (from semopy) (1.6.1)\n",
            "Requirement already satisfied: statsmodels in /usr/local/lib/python3.11/dist-packages (from semopy) (0.14.4)\n",
            "Collecting numdifftools (from semopy)\n",
            "  Downloading numdifftools-0.9.41-py2.py3-none-any.whl.metadata (39 kB)\n",
            "Requirement already satisfied: python-dateutil>=2.8.2 in /usr/local/lib/python3.11/dist-packages (from pandas->semopy) (2.8.2)\n",
            "Requirement already satisfied: pytz>=2020.1 in /usr/local/lib/python3.11/dist-packages (from pandas->semopy) (2025.1)\n",
            "Requirement already satisfied: tzdata>=2022.7 in /usr/local/lib/python3.11/dist-packages (from pandas->semopy) (2025.1)\n",
            "Requirement already satisfied: joblib>=1.2.0 in /usr/local/lib/python3.11/dist-packages (from scikit-learn->semopy) (1.4.2)\n",
            "Requirement already satisfied: threadpoolctl>=3.1.0 in /usr/local/lib/python3.11/dist-packages (from scikit-learn->semopy) (3.5.0)\n",
            "Requirement already satisfied: patsy>=0.5.6 in /usr/local/lib/python3.11/dist-packages (from statsmodels->semopy) (1.0.1)\n",
            "Requirement already satisfied: packaging>=21.3 in /usr/local/lib/python3.11/dist-packages (from statsmodels->semopy) (24.2)\n",
            "Requirement already satisfied: mpmath<1.4,>=1.1.0 in /usr/local/lib/python3.11/dist-packages (from sympy->semopy) (1.3.0)\n",
            "Requirement already satisfied: six>=1.5 in /usr/local/lib/python3.11/dist-packages (from python-dateutil>=2.8.2->pandas->semopy) (1.17.0)\n",
            "Downloading numdifftools-0.9.41-py2.py3-none-any.whl (100 kB)\n",
            "\u001b[2K   \u001b[90m━━━━━━━━━━━━━━━━━━━━━━━━━━━━━━━━━━━━━━━━\u001b[0m \u001b[32m100.2/100.2 kB\u001b[0m \u001b[31m4.0 MB/s\u001b[0m eta \u001b[36m0:00:00\u001b[0m\n",
            "\u001b[?25hBuilding wheels for collected packages: semopy\n",
            "  Building wheel for semopy (setup.py) ... \u001b[?25l\u001b[?25hdone\n",
            "  Created wheel for semopy: filename=semopy-2.3.11-py3-none-any.whl size=1659681 sha256=bcd82062dae44f79d3cc63bbd36ae433942e872e87e03b494ef0c8827625d8fd\n",
            "  Stored in directory: /root/.cache/pip/wheels/d2/9a/31/fae291ff6a649bad125037eef8c7cc63d8c542e14bdcccea37\n",
            "Successfully built semopy\n",
            "Installing collected packages: numdifftools, semopy\n",
            "Successfully installed numdifftools-0.9.41 semopy-2.3.11\n"
          ]
        }
      ],
      "source": [
        " !pip install semopy\n",
        "# library untuk sem"
      ]
    },
    {
      "cell_type": "code",
      "execution_count": null,
      "metadata": {
        "id": "Oo7qTBrcPCNS"
      },
      "outputs": [],
      "source": [
        "!pip install semopy --upgrade"
      ]
    },
    {
      "cell_type": "code",
      "execution_count": null,
      "metadata": {
        "id": "r3XKlcCvNoWA",
        "colab": {
          "base_uri": "https://localhost:8080/"
        },
        "outputId": "bc6cf48b-36fc-44ee-a450-497ba4de62b9"
      },
      "outputs": [
        {
          "output_type": "stream",
          "name": "stdout",
          "text": [
            "Collecting pingouin\n",
            "  Downloading pingouin-0.5.5-py3-none-any.whl.metadata (19 kB)\n",
            "Requirement already satisfied: matplotlib in /usr/local/lib/python3.11/dist-packages (from pingouin) (3.10.0)\n",
            "Requirement already satisfied: numpy in /usr/local/lib/python3.11/dist-packages (from pingouin) (1.26.4)\n",
            "Requirement already satisfied: pandas>=1.5 in /usr/local/lib/python3.11/dist-packages (from pingouin) (2.2.2)\n",
            "Collecting pandas-flavor (from pingouin)\n",
            "  Downloading pandas_flavor-0.6.0-py3-none-any.whl.metadata (6.3 kB)\n",
            "Requirement already satisfied: scikit-learn>=1.2 in /usr/local/lib/python3.11/dist-packages (from pingouin) (1.6.1)\n",
            "Requirement already satisfied: scipy in /usr/local/lib/python3.11/dist-packages (from pingouin) (1.14.1)\n",
            "Requirement already satisfied: seaborn in /usr/local/lib/python3.11/dist-packages (from pingouin) (0.13.2)\n",
            "Requirement already satisfied: statsmodels in /usr/local/lib/python3.11/dist-packages (from pingouin) (0.14.4)\n",
            "Requirement already satisfied: tabulate in /usr/local/lib/python3.11/dist-packages (from pingouin) (0.9.0)\n",
            "Requirement already satisfied: python-dateutil>=2.8.2 in /usr/local/lib/python3.11/dist-packages (from pandas>=1.5->pingouin) (2.8.2)\n",
            "Requirement already satisfied: pytz>=2020.1 in /usr/local/lib/python3.11/dist-packages (from pandas>=1.5->pingouin) (2025.1)\n",
            "Requirement already satisfied: tzdata>=2022.7 in /usr/local/lib/python3.11/dist-packages (from pandas>=1.5->pingouin) (2025.1)\n",
            "Requirement already satisfied: joblib>=1.2.0 in /usr/local/lib/python3.11/dist-packages (from scikit-learn>=1.2->pingouin) (1.4.2)\n",
            "Requirement already satisfied: threadpoolctl>=3.1.0 in /usr/local/lib/python3.11/dist-packages (from scikit-learn>=1.2->pingouin) (3.5.0)\n",
            "Requirement already satisfied: contourpy>=1.0.1 in /usr/local/lib/python3.11/dist-packages (from matplotlib->pingouin) (1.3.1)\n",
            "Requirement already satisfied: cycler>=0.10 in /usr/local/lib/python3.11/dist-packages (from matplotlib->pingouin) (0.12.1)\n",
            "Requirement already satisfied: fonttools>=4.22.0 in /usr/local/lib/python3.11/dist-packages (from matplotlib->pingouin) (4.56.0)\n",
            "Requirement already satisfied: kiwisolver>=1.3.1 in /usr/local/lib/python3.11/dist-packages (from matplotlib->pingouin) (1.4.8)\n",
            "Requirement already satisfied: packaging>=20.0 in /usr/local/lib/python3.11/dist-packages (from matplotlib->pingouin) (24.2)\n",
            "Requirement already satisfied: pillow>=8 in /usr/local/lib/python3.11/dist-packages (from matplotlib->pingouin) (11.1.0)\n",
            "Requirement already satisfied: pyparsing>=2.3.1 in /usr/local/lib/python3.11/dist-packages (from matplotlib->pingouin) (3.2.1)\n",
            "Requirement already satisfied: xarray in /usr/local/lib/python3.11/dist-packages (from pandas-flavor->pingouin) (2025.1.2)\n",
            "Requirement already satisfied: patsy>=0.5.6 in /usr/local/lib/python3.11/dist-packages (from statsmodels->pingouin) (1.0.1)\n",
            "Requirement already satisfied: six>=1.5 in /usr/local/lib/python3.11/dist-packages (from python-dateutil>=2.8.2->pandas>=1.5->pingouin) (1.17.0)\n",
            "Downloading pingouin-0.5.5-py3-none-any.whl (204 kB)\n",
            "\u001b[2K   \u001b[90m━━━━━━━━━━━━━━━━━━━━━━━━━━━━━━━━━━━━━━━━\u001b[0m \u001b[32m204.4/204.4 kB\u001b[0m \u001b[31m3.3 MB/s\u001b[0m eta \u001b[36m0:00:00\u001b[0m\n",
            "\u001b[?25hDownloading pandas_flavor-0.6.0-py3-none-any.whl (7.2 kB)\n",
            "Installing collected packages: pandas-flavor, pingouin\n",
            "Successfully installed pandas-flavor-0.6.0 pingouin-0.5.5\n"
          ]
        }
      ],
      "source": [
        "!pip install pingouin"
      ]
    },
    {
      "cell_type": "code",
      "execution_count": null,
      "metadata": {
        "colab": {
          "base_uri": "https://localhost:8080/",
          "height": 90
        },
        "id": "IqW2nST3RsCT",
        "outputId": "f99711a7-8931-48a7-9d47-843b8e509279"
      },
      "outputs": [
        {
          "output_type": "display_data",
          "data": {
            "text/plain": [
              "<IPython.core.display.HTML object>"
            ],
            "text/html": [
              "\n",
              "     <input type=\"file\" id=\"files-252c1720-9f79-4fc9-ba5e-b68d2e37811d\" name=\"files[]\" multiple disabled\n",
              "        style=\"border:none\" />\n",
              "     <output id=\"result-252c1720-9f79-4fc9-ba5e-b68d2e37811d\">\n",
              "      Upload widget is only available when the cell has been executed in the\n",
              "      current browser session. Please rerun this cell to enable.\n",
              "      </output>\n",
              "      <script>// Copyright 2017 Google LLC\n",
              "//\n",
              "// Licensed under the Apache License, Version 2.0 (the \"License\");\n",
              "// you may not use this file except in compliance with the License.\n",
              "// You may obtain a copy of the License at\n",
              "//\n",
              "//      http://www.apache.org/licenses/LICENSE-2.0\n",
              "//\n",
              "// Unless required by applicable law or agreed to in writing, software\n",
              "// distributed under the License is distributed on an \"AS IS\" BASIS,\n",
              "// WITHOUT WARRANTIES OR CONDITIONS OF ANY KIND, either express or implied.\n",
              "// See the License for the specific language governing permissions and\n",
              "// limitations under the License.\n",
              "\n",
              "/**\n",
              " * @fileoverview Helpers for google.colab Python module.\n",
              " */\n",
              "(function(scope) {\n",
              "function span(text, styleAttributes = {}) {\n",
              "  const element = document.createElement('span');\n",
              "  element.textContent = text;\n",
              "  for (const key of Object.keys(styleAttributes)) {\n",
              "    element.style[key] = styleAttributes[key];\n",
              "  }\n",
              "  return element;\n",
              "}\n",
              "\n",
              "// Max number of bytes which will be uploaded at a time.\n",
              "const MAX_PAYLOAD_SIZE = 100 * 1024;\n",
              "\n",
              "function _uploadFiles(inputId, outputId) {\n",
              "  const steps = uploadFilesStep(inputId, outputId);\n",
              "  const outputElement = document.getElementById(outputId);\n",
              "  // Cache steps on the outputElement to make it available for the next call\n",
              "  // to uploadFilesContinue from Python.\n",
              "  outputElement.steps = steps;\n",
              "\n",
              "  return _uploadFilesContinue(outputId);\n",
              "}\n",
              "\n",
              "// This is roughly an async generator (not supported in the browser yet),\n",
              "// where there are multiple asynchronous steps and the Python side is going\n",
              "// to poll for completion of each step.\n",
              "// This uses a Promise to block the python side on completion of each step,\n",
              "// then passes the result of the previous step as the input to the next step.\n",
              "function _uploadFilesContinue(outputId) {\n",
              "  const outputElement = document.getElementById(outputId);\n",
              "  const steps = outputElement.steps;\n",
              "\n",
              "  const next = steps.next(outputElement.lastPromiseValue);\n",
              "  return Promise.resolve(next.value.promise).then((value) => {\n",
              "    // Cache the last promise value to make it available to the next\n",
              "    // step of the generator.\n",
              "    outputElement.lastPromiseValue = value;\n",
              "    return next.value.response;\n",
              "  });\n",
              "}\n",
              "\n",
              "/**\n",
              " * Generator function which is called between each async step of the upload\n",
              " * process.\n",
              " * @param {string} inputId Element ID of the input file picker element.\n",
              " * @param {string} outputId Element ID of the output display.\n",
              " * @return {!Iterable<!Object>} Iterable of next steps.\n",
              " */\n",
              "function* uploadFilesStep(inputId, outputId) {\n",
              "  const inputElement = document.getElementById(inputId);\n",
              "  inputElement.disabled = false;\n",
              "\n",
              "  const outputElement = document.getElementById(outputId);\n",
              "  outputElement.innerHTML = '';\n",
              "\n",
              "  const pickedPromise = new Promise((resolve) => {\n",
              "    inputElement.addEventListener('change', (e) => {\n",
              "      resolve(e.target.files);\n",
              "    });\n",
              "  });\n",
              "\n",
              "  const cancel = document.createElement('button');\n",
              "  inputElement.parentElement.appendChild(cancel);\n",
              "  cancel.textContent = 'Cancel upload';\n",
              "  const cancelPromise = new Promise((resolve) => {\n",
              "    cancel.onclick = () => {\n",
              "      resolve(null);\n",
              "    };\n",
              "  });\n",
              "\n",
              "  // Wait for the user to pick the files.\n",
              "  const files = yield {\n",
              "    promise: Promise.race([pickedPromise, cancelPromise]),\n",
              "    response: {\n",
              "      action: 'starting',\n",
              "    }\n",
              "  };\n",
              "\n",
              "  cancel.remove();\n",
              "\n",
              "  // Disable the input element since further picks are not allowed.\n",
              "  inputElement.disabled = true;\n",
              "\n",
              "  if (!files) {\n",
              "    return {\n",
              "      response: {\n",
              "        action: 'complete',\n",
              "      }\n",
              "    };\n",
              "  }\n",
              "\n",
              "  for (const file of files) {\n",
              "    const li = document.createElement('li');\n",
              "    li.append(span(file.name, {fontWeight: 'bold'}));\n",
              "    li.append(span(\n",
              "        `(${file.type || 'n/a'}) - ${file.size} bytes, ` +\n",
              "        `last modified: ${\n",
              "            file.lastModifiedDate ? file.lastModifiedDate.toLocaleDateString() :\n",
              "                                    'n/a'} - `));\n",
              "    const percent = span('0% done');\n",
              "    li.appendChild(percent);\n",
              "\n",
              "    outputElement.appendChild(li);\n",
              "\n",
              "    const fileDataPromise = new Promise((resolve) => {\n",
              "      const reader = new FileReader();\n",
              "      reader.onload = (e) => {\n",
              "        resolve(e.target.result);\n",
              "      };\n",
              "      reader.readAsArrayBuffer(file);\n",
              "    });\n",
              "    // Wait for the data to be ready.\n",
              "    let fileData = yield {\n",
              "      promise: fileDataPromise,\n",
              "      response: {\n",
              "        action: 'continue',\n",
              "      }\n",
              "    };\n",
              "\n",
              "    // Use a chunked sending to avoid message size limits. See b/62115660.\n",
              "    let position = 0;\n",
              "    do {\n",
              "      const length = Math.min(fileData.byteLength - position, MAX_PAYLOAD_SIZE);\n",
              "      const chunk = new Uint8Array(fileData, position, length);\n",
              "      position += length;\n",
              "\n",
              "      const base64 = btoa(String.fromCharCode.apply(null, chunk));\n",
              "      yield {\n",
              "        response: {\n",
              "          action: 'append',\n",
              "          file: file.name,\n",
              "          data: base64,\n",
              "        },\n",
              "      };\n",
              "\n",
              "      let percentDone = fileData.byteLength === 0 ?\n",
              "          100 :\n",
              "          Math.round((position / fileData.byteLength) * 100);\n",
              "      percent.textContent = `${percentDone}% done`;\n",
              "\n",
              "    } while (position < fileData.byteLength);\n",
              "  }\n",
              "\n",
              "  // All done.\n",
              "  yield {\n",
              "    response: {\n",
              "      action: 'complete',\n",
              "    }\n",
              "  };\n",
              "}\n",
              "\n",
              "scope.google = scope.google || {};\n",
              "scope.google.colab = scope.google.colab || {};\n",
              "scope.google.colab._files = {\n",
              "  _uploadFiles,\n",
              "  _uploadFilesContinue,\n",
              "};\n",
              "})(self);\n",
              "</script> "
            ]
          },
          "metadata": {}
        },
        {
          "output_type": "stream",
          "name": "stdout",
          "text": [
            "Saving kuesionerPenelitiaanFix.xlsx to kuesionerPenelitiaanFix.xlsx\n"
          ]
        }
      ],
      "source": [
        "import pandas as pd\n",
        "from google.colab import files\n",
        "\n",
        "# **1. Upload File**\n",
        "uploaded = files.upload()\n",
        "\n",
        "# **2. Baca File yang Diupload**\n",
        "filename = list(uploaded.keys())[0]\n",
        "df = pd.read_excel(filename)  # Membaca file sebagai DataFrame\n",
        "\n"
      ]
    },
    {
      "cell_type": "code",
      "execution_count": null,
      "metadata": {
        "id": "YckFn1snRyOl"
      },
      "outputs": [],
      "source": [
        "# **3. Cek Struktur Data**\n",
        "print(\"\\nInformasi Data:\")\n",
        "print(df.info())"
      ]
    },
    {
      "cell_type": "code",
      "execution_count": null,
      "metadata": {
        "id": "LLkKK_ZOR0dI",
        "colab": {
          "base_uri": "https://localhost:8080/"
        },
        "outputId": "eea8c996-d5d4-4663-ddb4-ee3fe8072bdd"
      },
      "outputs": [
        {
          "output_type": "stream",
          "name": "stdout",
          "text": [
            "\n",
            "Jumlah Data Kosong per Kolom:\n",
            "Timestamp                                                                                                                                                                       0\n",
            "NIM                                                                                                                                                                             0\n",
            "ANGKATAN                                                                                                                                                                        0\n",
            "JURUSAN                                                                                                                                                                         0\n",
            "JENIS KELAMIN                                                                                                                                                                   0\n",
            "Bagaimana pendapat anda dengan proses pengurusan dokumen akademik (transkrip nilai, nilai semester, permohonan cuti akademik) ?                                                 0\n",
            "Bagaimana pendapat  anda terhadap informasi yang diberikan mengenai proses administrasi semester selanjutnya (Pembayaran BPP, penginputan KRS)?                                 0\n",
            "Bagaimana pendapat anda dengan ketepatan waktu dalam proses pengajuan surat atau permintaan dokumen di administrasi akademik?                                                   0\n",
            "Bagaimana pendapat anda dengan kelancaran proses administrasi akademik yang telah anda lakukan?                                                                                 0\n",
            "Bagaimana pendapat anda dengan kecepatan staf administrasi akademik dalam merespon pertanyaan atau permohonan yang anda berikan?                                                0\n",
            "Bagaimana pendapat anda dengan kemudahan dalam menemui staf akademik jika membutuhkan bantuan terkait administrasi akademik?                                                    0\n",
            "Bagaimana pendapat anda dengan cara staf administrasi akademik menangani masalah atau keluhan yang anda berikan terkait administrsi akademik?                                   0\n",
            "Bagaimana pendapat anda dengan tingkat profesionalisme staf administrasi akademik dalam menghadapi mahasiswa?                                                                   0\n",
            "Bagaimana pendapat anda dengan pelayanan yang diberikan oleh staf administrasi akademik?                                                                                        0\n",
            "Bagaimana pendapat anda dengan kemudahan penggunaan sistem informasi akademik (SISKA)?                                                                                          0\n",
            "Bagaimana pendapat anda dengan ketersediaan informasi terkait akademik (jadwal, pengumuman, nilai) yang jelas di SISKA?                                                         0\n",
            "Bagaimana pendapat anda dengan kelancaran proses untuk mengecek jadwal, nilai, kartu rencana studi, dan pengisian formulir melalui SISKA?                                       0\n",
            "Bagaimana pendapat dengan kecepatan respons sistem informasi akademik (SISKA) saat diakses pada waktu puncak (misalnya saat pengisian KRS, awal semester, akhir semester)?      0\n",
            "Bagaimana pendapat anda dengan layanan administrasi akademik secara keseluruhan?                                                                                                0\n",
            "Bagaimana pendapat  anda dengan tingkat transparansi dalam komunikasi mengenai kebijakan atau perubahan yang berlaku di administrasi akademik?                                  0\n",
            "Bagaimana pendapat anda dengan efisiensi dan efektivitas layanan administrasi akademik yang telah anda terima?                                                                  0\n",
            "Seberapa sering anda mengalami kesulitan dalam pengurusan administrasi akademik (misalnya KRS, pengajuan dokumen, pembayaran)?                                                  0\n",
            "Seberapa sering anda merasa perlu untuk mengajukan keluhan terkait layanan administrasi akademik?                                                                               0\n",
            "Bagaimana Anda menilai penanganan keluhan yang Anda ajukan terkait administrasi akademik?                                                                                       0\n",
            "Seberapa besar kemungkinan Anda akan merekomendasikan Universitas DIPA Makassar kepada orang lain berdasarkan layanan akademik yang Anda terima?                                0\n",
            "Bagaimana menurut Anda mengenai kemudahan akses informasi dan layanan akademik yang tersedia sehingga Anda merasa nyaman dalam proses perkuliahan?                              0\n",
            "Sejauh mana Anda percaya bahwa Universitas DIPA Makassar menyediakan layanan akademik yang baik?                                                                                0\n",
            "Apakah ada hal lain yang ingin Anda sampaikan mengenai layanan administrasi akademik ( kritik dan saran dipersilahkan) ?                                                      116\n",
            "dtype: int64\n"
          ]
        }
      ],
      "source": [
        "# **4. Cek Data Kosong**\n",
        "print(\"\\nJumlah Data Kosong per Kolom:\")\n",
        "print(df.isnull().sum())"
      ]
    },
    {
      "cell_type": "code",
      "execution_count": null,
      "metadata": {
        "id": "ufw9IAlYRwDp",
        "colab": {
          "base_uri": "https://localhost:8080/"
        },
        "outputId": "1856ad41-c38e-4d12-9a0c-a55abadea2bc"
      },
      "outputs": [
        {
          "output_type": "stream",
          "name": "stdout",
          "text": [
            "\n",
            "Preview Data Setelah Encoding:\n",
            "   ANGKATAN             JURUSAN JENIS KELAMIN  \\\n",
            "0      2024  Teknik Informatika     Perempuan   \n",
            "1      2020  Teknik Informatika     Perempuan   \n",
            "2      2021  Teknik Informatika     Laki-Laki   \n",
            "3      2021    Sistem Informasi     Perempuan   \n",
            "4      2021  Teknik Informatika     Laki-Laki   \n",
            "\n",
            "   Bagaimana pendapat anda dengan proses pengurusan dokumen akademik (transkrip nilai, nilai semester, permohonan cuti akademik) ?  \\\n",
            "0                                                  3                                                                                 \n",
            "1                                                  4                                                                                 \n",
            "2                                                  3                                                                                 \n",
            "3                                                  3                                                                                 \n",
            "4                                                  3                                                                                 \n",
            "\n",
            "   Bagaimana pendapat  anda terhadap informasi yang diberikan mengenai proses administrasi semester selanjutnya (Pembayaran BPP, penginputan KRS)?  \\\n",
            "0                                                  3                                                                                                 \n",
            "1                                                  4                                                                                                 \n",
            "2                                                  3                                                                                                 \n",
            "3                                                  3                                                                                                 \n",
            "4                                                  3                                                                                                 \n",
            "\n",
            "   Bagaimana pendapat anda dengan ketepatan waktu dalam proses pengajuan surat atau permintaan dokumen di administrasi akademik?  \\\n",
            "0                                                  3                                                                               \n",
            "1                                                  3                                                                               \n",
            "2                                                  3                                                                               \n",
            "3                                                  2                                                                               \n",
            "4                                                  3                                                                               \n",
            "\n",
            "   Bagaimana pendapat anda dengan kelancaran proses administrasi akademik yang telah anda lakukan?  \\\n",
            "0                                                  3                                                 \n",
            "1                                                  4                                                 \n",
            "2                                                  3                                                 \n",
            "3                                                  3                                                 \n",
            "4                                                  3                                                 \n",
            "\n",
            "   Bagaimana pendapat anda dengan kecepatan staf administrasi akademik dalam merespon pertanyaan atau permohonan yang anda berikan?  \\\n",
            "0                                                  3                                                                                  \n",
            "1                                                  3                                                                                  \n",
            "2                                                  3                                                                                  \n",
            "3                                                  2                                                                                  \n",
            "4                                                  3                                                                                  \n",
            "\n",
            "   Bagaimana pendapat anda dengan kemudahan dalam menemui staf akademik jika membutuhkan bantuan terkait administrasi akademik?  \\\n",
            "0                                                  3                                                                              \n",
            "1                                                  4                                                                              \n",
            "2                                                  3                                                                              \n",
            "3                                                  3                                                                              \n",
            "4                                                  3                                                                              \n",
            "\n",
            "   Bagaimana pendapat anda dengan cara staf administrasi akademik menangani masalah atau keluhan yang anda berikan terkait administrsi akademik?  \\\n",
            "0                                                  3                                                                                               \n",
            "1                                                  3                                                                                               \n",
            "2                                                  3                                                                                               \n",
            "3                                                  2                                                                                               \n",
            "4                                                  3                                                                                               \n",
            "\n",
            "   ...  \\\n",
            "0  ...   \n",
            "1  ...   \n",
            "2  ...   \n",
            "3  ...   \n",
            "4  ...   \n",
            "\n",
            "   Bagaimana pendapat dengan kecepatan respons sistem informasi akademik (SISKA) saat diakses pada waktu puncak (misalnya saat pengisian KRS, awal semester, akhir semester)?  \\\n",
            "0                                                  3                                                                                                                            \n",
            "1                                                  3                                                                                                                            \n",
            "2                                                  3                                                                                                                            \n",
            "3                                                  2                                                                                                                            \n",
            "4                                                  3                                                                                                                            \n",
            "\n",
            "   Bagaimana pendapat anda dengan layanan administrasi akademik secara keseluruhan?  \\\n",
            "0                                                  3                                  \n",
            "1                                                  3                                  \n",
            "2                                                  3                                  \n",
            "3                                                  3                                  \n",
            "4                                                  3                                  \n",
            "\n",
            "   Bagaimana pendapat  anda dengan tingkat transparansi dalam komunikasi mengenai kebijakan atau perubahan yang berlaku di administrasi akademik?  \\\n",
            "0                                                  3                                                                                                \n",
            "1                                                  3                                                                                                \n",
            "2                                                  3                                                                                                \n",
            "3                                                  3                                                                                                \n",
            "4                                                  3                                                                                                \n",
            "\n",
            "   Bagaimana pendapat anda dengan efisiensi dan efektivitas layanan administrasi akademik yang telah anda terima?  \\\n",
            "0                                                  3                                                                \n",
            "1                                                  3                                                                \n",
            "2                                                  3                                                                \n",
            "3                                                  3                                                                \n",
            "4                                                  3                                                                \n",
            "\n",
            "   Seberapa sering anda mengalami kesulitan dalam pengurusan administrasi akademik (misalnya KRS, pengajuan dokumen, pembayaran)?  \\\n",
            "0                                                  2                                                                                \n",
            "1                                                  2                                                                                \n",
            "2                                                  2                                                                                \n",
            "3                                                  2                                                                                \n",
            "4                                                  3                                                                                \n",
            "\n",
            "   Seberapa sering anda merasa perlu untuk mengajukan keluhan terkait layanan administrasi akademik?  \\\n",
            "0                                                  2                                                   \n",
            "1                                                  2                                                   \n",
            "2                                                  2                                                   \n",
            "3                                                  2                                                   \n",
            "4                                                  3                                                   \n",
            "\n",
            "   Bagaimana Anda menilai penanganan keluhan yang Anda ajukan terkait administrasi akademik?  \\\n",
            "0                                                  3                                           \n",
            "1                                                  3                                           \n",
            "2                                                  3                                           \n",
            "3                                                  3                                           \n",
            "4                                                  3                                           \n",
            "\n",
            "   Seberapa besar kemungkinan Anda akan merekomendasikan Universitas DIPA Makassar kepada orang lain berdasarkan layanan akademik yang Anda terima?   \\\n",
            "0                                                  3                                                                                                   \n",
            "1                                                  3                                                                                                   \n",
            "2                                                  3                                                                                                   \n",
            "3                                                  3                                                                                                   \n",
            "4                                                  3                                                                                                   \n",
            "\n",
            "   Bagaimana menurut Anda mengenai kemudahan akses informasi dan layanan akademik yang tersedia sehingga Anda merasa nyaman dalam proses perkuliahan?  \\\n",
            "0                                                  3                                                                                                    \n",
            "1                                                  3                                                                                                    \n",
            "2                                                  3                                                                                                    \n",
            "3                                                  3                                                                                                    \n",
            "4                                                  3                                                                                                    \n",
            "\n",
            "   Sejauh mana Anda percaya bahwa Universitas DIPA Makassar menyediakan layanan akademik yang baik?   \n",
            "0                                                  3                                                  \n",
            "1                                                  4                                                  \n",
            "2                                                  3                                                  \n",
            "3                                                  3                                                  \n",
            "4                                                  3                                                  \n",
            "\n",
            "[5 rows x 25 columns]\n",
            "\n",
            "Data telah disimpan sebagai 'data_encoded.csv'\n"
          ]
        },
        {
          "output_type": "stream",
          "name": "stderr",
          "text": [
            "<ipython-input-4-83425d36a2ee>:14: FutureWarning: Downcasting behavior in `replace` is deprecated and will be removed in a future version. To retain the old behavior, explicitly call `result.infer_objects(copy=False)`. To opt-in to the future behavior, set `pd.set_option('future.no_silent_downcasting', True)`\n",
            "  df_encoded = df_cleaned.replace(likert_mappings)\n"
          ]
        }
      ],
      "source": [
        "# **5. Encoding untuk Berbagai Skala Likert**\n",
        "likert_mappings = {\n",
        "    \"Sangat Puas\": 4, \"Puas\": 3, \"Tidak Puas\": 2, \"Sangat Tidak Puas\": 1,\n",
        "    \"Sangat Sering\": 4, \"Sering\": 3, \"Jarang\": 2, \"Tidak Pernah\": 1,\n",
        "    \"Sangat Memadai\": 4, \"Memadai\": 3, \"Tidak Memadai\": 2, \"Sangat Tidak Memadai\": 1,\n",
        "    \"Sangat Setuju\": 4, \"Setuju\": 3, \"Tidak Setuju\": 2, \"Sangat Tidak Setuju\": 1,\n",
        "    \"Sangat Mungkin\": 4, \"Mungkin\": 3, \"Tidak Mungkin\": 2, \"Sangat Tidak Mungkin\": 1\n",
        "}\n",
        "\n",
        "# Menghapus kolom yang tidak diperlukan sebelumnya\n",
        "df_cleaned = df.drop(columns=[\"Timestamp\", \"NIM\", \"Apakah ada hal lain yang ingin Anda sampaikan mengenai layanan administrasi akademik ( kritik dan saran dipersilahkan) ?\"])\n",
        "\n",
        "# Mengonversi data kategorikal ke numerik dengan mengganti nilai-nilai dari skala Likert\n",
        "df_encoded = df_cleaned.replace(likert_mappings)\n",
        "\n",
        "# **6. Cek Hasil Encoding**\n",
        "print(\"\\nPreview Data Setelah Encoding:\")\n",
        "print(df_encoded.head())\n",
        "\n",
        "# **7. Simpan Data yang Sudah Di-encode**\n",
        "df_encoded.to_csv(\"data_encoded.csv\", index=False)\n",
        "print(\"\\nData telah disimpan sebagai 'data_encoded.csv'\")\n",
        "\n"
      ]
    },
    {
      "cell_type": "code",
      "execution_count": null,
      "metadata": {
        "id": "JaL_IZXtTPVF"
      },
      "outputs": [],
      "source": [
        "df_cleaned"
      ]
    },
    {
      "cell_type": "code",
      "execution_count": null,
      "metadata": {
        "id": "TBdKK3UCUeDq"
      },
      "outputs": [],
      "source": [
        "df"
      ]
    },
    {
      "cell_type": "code",
      "execution_count": null,
      "metadata": {
        "id": "FRUJSlyiUpTd"
      },
      "outputs": [],
      "source": [
        "# Cek tipe data dan distribusi\n",
        "print(\"\\nTipe Data Setelah Encoding:\")\n",
        "print(df_encoded.dtypes)\n",
        "\n",
        "print(\"\\nDistribusi Nilai Setiap Kolom:\")\n",
        "print(df_encoded.describe())\n"
      ]
    },
    {
      "cell_type": "markdown",
      "metadata": {
        "id": "63dF5DHNU8Ot"
      },
      "source": [
        "# Evaluasi Model Pengukuran (Measurement Model)"
      ]
    },
    {
      "cell_type": "code",
      "execution_count": null,
      "metadata": {
        "id": "nDWXKfO_U7KH",
        "colab": {
          "base_uri": "https://localhost:8080/"
        },
        "outputId": "c19df9d0-cf0f-455b-b74e-84ab969e87e2"
      },
      "outputs": [
        {
          "output_type": "stream",
          "name": "stdout",
          "text": [
            "\n",
            "Preview Data Setelah Menghapus Kolom:\n",
            "\n",
            "Data telah disimpan sebagai 'data.csv'\n"
          ]
        }
      ],
      "source": [
        "# Menghapus kolom yang tidak diperlukan untuk uji validitas\n",
        "df = df_encoded.drop(columns=['ANGKATAN', 'JURUSAN', 'JENIS KELAMIN','Seberapa sering anda mengalami kesulitan dalam pengurusan administrasi akademik (misalnya KRS, pengajuan dokumen, pembayaran)?',  'Seberapa sering anda merasa perlu untuk mengajukan keluhan terkait layanan administrasi akademik?'])\n",
        "\n",
        "# Cek hasil setelah penghapusan kolom\n",
        "print(\"\\nPreview Data Setelah Menghapus Kolom:\")\n",
        "\n",
        "\n",
        "# Menyimpan data yang sudah dibersihkan\n",
        "df.to_csv(\"data.csv\", index=False)\n",
        "print(\"\\nData telah disimpan sebagai 'data.csv'\")\n"
      ]
    },
    {
      "cell_type": "code",
      "execution_count": null,
      "metadata": {
        "id": "QAXRWmld2nGs",
        "colab": {
          "base_uri": "https://localhost:8080/",
          "height": 17
        },
        "outputId": "0f820019-d5c9-45ff-f982-7d2700049757"
      },
      "outputs": [
        {
          "output_type": "display_data",
          "data": {
            "text/plain": [
              "<IPython.core.display.Javascript object>"
            ],
            "application/javascript": [
              "\n",
              "    async function download(id, filename, size) {\n",
              "      if (!google.colab.kernel.accessAllowed) {\n",
              "        return;\n",
              "      }\n",
              "      const div = document.createElement('div');\n",
              "      const label = document.createElement('label');\n",
              "      label.textContent = `Downloading \"${filename}\": `;\n",
              "      div.appendChild(label);\n",
              "      const progress = document.createElement('progress');\n",
              "      progress.max = size;\n",
              "      div.appendChild(progress);\n",
              "      document.body.appendChild(div);\n",
              "\n",
              "      const buffers = [];\n",
              "      let downloaded = 0;\n",
              "\n",
              "      const channel = await google.colab.kernel.comms.open(id);\n",
              "      // Send a message to notify the kernel that we're ready.\n",
              "      channel.send({})\n",
              "\n",
              "      for await (const message of channel.messages) {\n",
              "        // Send a message to notify the kernel that we're ready.\n",
              "        channel.send({})\n",
              "        if (message.buffers) {\n",
              "          for (const buffer of message.buffers) {\n",
              "            buffers.push(buffer);\n",
              "            downloaded += buffer.byteLength;\n",
              "            progress.value = downloaded;\n",
              "          }\n",
              "        }\n",
              "      }\n",
              "      const blob = new Blob(buffers, {type: 'application/binary'});\n",
              "      const a = document.createElement('a');\n",
              "      a.href = window.URL.createObjectURL(blob);\n",
              "      a.download = filename;\n",
              "      div.appendChild(a);\n",
              "      a.click();\n",
              "      div.remove();\n",
              "    }\n",
              "  "
            ]
          },
          "metadata": {}
        },
        {
          "output_type": "display_data",
          "data": {
            "text/plain": [
              "<IPython.core.display.Javascript object>"
            ],
            "application/javascript": [
              "download(\"download_2716ac70-64f5-49ec-9b02-5e520a3d7e2f\", \"data_encoded_clean.xlsx\", 19338)"
            ]
          },
          "metadata": {}
        }
      ],
      "source": [
        "import pandas as pd\n",
        "df = pd.read_csv('data_encoded.csv')\n",
        "df.to_excel('data_encoded_clean.xlsx', index=False)\n",
        "from google.colab import files\n",
        "files.download('data_encoded_clean.xlsx')"
      ]
    },
    {
      "cell_type": "markdown",
      "metadata": {
        "id": "kU-2DqSXfP3t"
      },
      "source": [
        "PROSES MAPPING DATA SUPAYA MENJADI LEBIH SINGKAT"
      ]
    },
    {
      "cell_type": "code",
      "execution_count": null,
      "metadata": {
        "colab": {
          "base_uri": "https://localhost:8080/"
        },
        "id": "WItCesBBF_TT",
        "outputId": "af23bb20-08e1-4f46-895b-416eeec7a1f6"
      },
      "outputs": [
        {
          "output_type": "stream",
          "name": "stdout",
          "text": [
            "Index(['KPA1', 'KPA2', 'KPA3', 'KPA4', 'KPA5', 'KPA6', 'KPA7', 'KPA8', 'KPA9',\n",
            "       'KPA10', 'KPA11', 'KPA12', 'KPA13', 'KM1', 'KPA16', 'KPA14', 'KPA15',\n",
            "       'KM2', 'KM4', 'KM3'],\n",
            "      dtype='object')\n"
          ]
        }
      ],
      "source": [
        "# Mapping nama kolom panjang ke nama variabel pendek\n",
        "column_mapping = {\n",
        "    \"Bagaimana pendapat anda dengan proses pengurusan dokumen akademik (transkrip nilai, nilai semester, permohonan cuti akademik) ?\": \"KPA1\",\n",
        "    \"Bagaimana pendapat  anda terhadap informasi yang diberikan mengenai proses administrasi semester selanjutnya (Pembayaran BPP, penginputan KRS)?\": \"KPA2\",\n",
        "    \"Bagaimana pendapat anda dengan ketepatan waktu dalam proses pengajuan surat atau permintaan dokumen di administrasi akademik?\": \"KPA3\",\n",
        "    \"Bagaimana pendapat anda dengan kelancaran proses administrasi akademik yang telah anda lakukan?\": \"KPA4\",\n",
        "    \"Bagaimana pendapat anda dengan kecepatan staf administrasi akademik dalam merespon pertanyaan atau permohonan yang anda berikan?\": \"KPA5\",\n",
        "    \"Bagaimana pendapat anda dengan kemudahan dalam menemui staf akademik jika membutuhkan bantuan terkait administrasi akademik?\": \"KPA6\",\n",
        "    \"Bagaimana pendapat anda dengan cara staf administrasi akademik menangani masalah atau keluhan yang anda berikan terkait administrsi akademik?\": \"KPA7\",\n",
        "    \"Bagaimana pendapat anda dengan tingkat profesionalisme staf administrasi akademik dalam menghadapi mahasiswa?\": \"KPA8\",\n",
        "    \"Bagaimana pendapat anda dengan pelayanan yang diberikan oleh staf administrasi akademik?\": \"KPA9\",\n",
        "    \"Bagaimana pendapat anda dengan kemudahan penggunaan sistem informasi akademik (SISKA)?\": \"KPA10\",\n",
        "    \"Bagaimana pendapat anda dengan ketersediaan informasi terkait akademik (jadwal, pengumuman, nilai) yang jelas di SISKA?\": \"KPA11\",\n",
        "    \"Bagaimana pendapat anda dengan kelancaran proses untuk mengecek jadwal, nilai, kartu rencana studi, dan pengisian formulir melalui SISKA?\": \"KPA12\",\n",
        "    \"Bagaimana pendapat dengan kecepatan respons sistem informasi akademik (SISKA) saat diakses pada waktu puncak (misalnya saat pengisian KRS, awal semester, akhir semester)?\": \"KPA13\",\n",
        "    \"Bagaimana pendapat  anda dengan tingkat transparansi dalam komunikasi mengenai kebijakan atau perubahan yang berlaku di administrasi akademik?\": \"KPA16\",\n",
        "    \"Bagaimana pendapat anda dengan efisiensi dan efektivitas layanan administrasi akademik yang telah anda terima?\": \"KPA14\",\n",
        "    \"Bagaimana Anda menilai penanganan keluhan yang Anda ajukan terkait administrasi akademik?\": \"KPA15\",\n",
        "\n",
        "    \"Bagaimana pendapat anda dengan layanan administrasi akademik secara keseluruhan?\": \"KM1\",\n",
        "    \"Seberapa besar kemungkinan Anda akan merekomendasikan Universitas DIPA Makassar kepada orang lain berdasarkan layanan akademik yang Anda terima? \": \"KM2\",\n",
        "    \"Bagaimana menurut Anda mengenai kemudahan akses informasi dan layanan akademik yang tersedia sehingga Anda merasa nyaman dalam proses perkuliahan?\": \"KM4\",\n",
        "    \"Sejauh mana Anda percaya bahwa Universitas DIPA Makassar menyediakan layanan akademik yang baik? \": \"KM3\"\n",
        "}\n",
        "# Ganti nama kolom dalam DataFrame\n",
        "df.rename(columns=column_mapping, inplace=True)\n",
        "\n",
        "# Tampilkan nama kolom setelah diganti\n",
        "print(df.columns)\n"
      ]
    },
    {
      "cell_type": "markdown",
      "metadata": {
        "id": "UPAGT1avSQiz"
      },
      "source": []
    },
    {
      "cell_type": "markdown",
      "metadata": {
        "id": "MhW3yON4I-xF"
      },
      "source": [
        "## Uji Validitas dan Reliabilitas"
      ]
    },
    {
      "cell_type": "markdown",
      "metadata": {
        "id": "LUwhV657fddh"
      },
      "source": [
        "### Outer Loadings, CR dan AVE"
      ]
    },
    {
      "cell_type": "code",
      "execution_count": null,
      "metadata": {
        "id": "-_A69CnKerXR",
        "colab": {
          "base_uri": "https://localhost:8080/"
        },
        "outputId": "e0c01099-093a-420f-df22-1a6c87de8702"
      },
      "outputs": [
        {
          "output_type": "stream",
          "name": "stdout",
          "text": [
            "                           lval  op                         rval  \\\n",
            "0            Kepuasan_Mahasiswa   ~  Kualitas_Pelayanan_Akademik   \n",
            "1                          KPA1   ~  Kualitas_Pelayanan_Akademik   \n",
            "2                          KPA2   ~  Kualitas_Pelayanan_Akademik   \n",
            "3                          KPA3   ~  Kualitas_Pelayanan_Akademik   \n",
            "4                          KPA4   ~  Kualitas_Pelayanan_Akademik   \n",
            "5                          KPA5   ~  Kualitas_Pelayanan_Akademik   \n",
            "6                          KPA6   ~  Kualitas_Pelayanan_Akademik   \n",
            "7                          KPA7   ~  Kualitas_Pelayanan_Akademik   \n",
            "8                          KPA8   ~  Kualitas_Pelayanan_Akademik   \n",
            "9                          KPA9   ~  Kualitas_Pelayanan_Akademik   \n",
            "10                        KPA10   ~  Kualitas_Pelayanan_Akademik   \n",
            "11                        KPA11   ~  Kualitas_Pelayanan_Akademik   \n",
            "12                        KPA12   ~  Kualitas_Pelayanan_Akademik   \n",
            "13                        KPA13   ~  Kualitas_Pelayanan_Akademik   \n",
            "14                        KPA14   ~  Kualitas_Pelayanan_Akademik   \n",
            "15                        KPA15   ~  Kualitas_Pelayanan_Akademik   \n",
            "16                          KM1   ~           Kepuasan_Mahasiswa   \n",
            "17                          KM2   ~           Kepuasan_Mahasiswa   \n",
            "18                          KM3   ~           Kepuasan_Mahasiswa   \n",
            "19           Kepuasan_Mahasiswa  ~~           Kepuasan_Mahasiswa   \n",
            "20  Kualitas_Pelayanan_Akademik  ~~  Kualitas_Pelayanan_Akademik   \n",
            "21                          KM1  ~~                          KM1   \n",
            "22                          KM2  ~~                          KM2   \n",
            "23                          KM3  ~~                          KM3   \n",
            "24                         KPA1  ~~                         KPA1   \n",
            "25                        KPA10  ~~                        KPA10   \n",
            "26                        KPA11  ~~                        KPA11   \n",
            "27                        KPA12  ~~                        KPA12   \n",
            "28                        KPA13  ~~                        KPA13   \n",
            "29                        KPA14  ~~                        KPA14   \n",
            "30                        KPA15  ~~                        KPA15   \n",
            "31                         KPA2  ~~                         KPA2   \n",
            "32                         KPA3  ~~                         KPA3   \n",
            "33                         KPA4  ~~                         KPA4   \n",
            "34                         KPA5  ~~                         KPA5   \n",
            "35                         KPA6  ~~                         KPA6   \n",
            "36                         KPA7  ~~                         KPA7   \n",
            "37                         KPA8  ~~                         KPA8   \n",
            "38                         KPA9  ~~                         KPA9   \n",
            "\n",
            "        Estimate  Std. Err    z-value p-value  \n",
            "0   1.220665e+00  0.084292   14.48144     0.0  \n",
            "1   8.000000e-01         -          -       -  \n",
            "2   7.577645e-01  0.066762  11.350304     0.0  \n",
            "3   8.190782e-01  0.065466  12.511419     0.0  \n",
            "4   8.605220e-01  0.064523  13.336689     0.0  \n",
            "5   8.067089e-01  0.065738   12.27155     0.0  \n",
            "6   8.091185e-01  0.065687   12.31786     0.0  \n",
            "7   8.633579e-01  0.064454   13.39493     0.0  \n",
            "8   8.424789e-01  0.064939  12.973329     0.0  \n",
            "9   8.656877e-01    0.0644  13.442284     0.0  \n",
            "10  7.388907e-01  0.067132  11.006454     0.0  \n",
            "11  6.977505e-01  0.067911  10.274494     0.0  \n",
            "12  7.068243e-01  0.067744  10.433721     0.0  \n",
            "13  7.780653e-01  0.066346  11.727413     0.0  \n",
            "14  7.400635e-01  0.067112  11.027373     0.0  \n",
            "15  6.518950e-01  0.068713   9.487157     0.0  \n",
            "16  7.500000e-01         -          -       -  \n",
            "17  5.460535e-01  0.050466  10.820141     0.0  \n",
            "18  5.689677e-01  0.049497  11.494948     0.0  \n",
            "19  1.378072e-18   0.04443        0.0     1.0  \n",
            "20  9.456347e-01  0.145117   6.516345     0.0  \n",
            "21  2.073994e-01  0.032442   6.392959     0.0  \n",
            "22  5.798855e-01   0.06018   9.635812     0.0  \n",
            "23  5.438564e-01  0.056894   9.559049     0.0  \n",
            "24  3.947345e-01  0.041753   9.454137     0.0  \n",
            "25  4.836294e-01  0.050272   9.620276     0.0  \n",
            "26  5.396029e-01  0.055648   9.696634     0.0  \n",
            "27  5.275435e-01   0.05449    9.68155     0.0  \n",
            "28  4.274657e-01  0.044886   9.523374     0.0  \n",
            "29  4.820354e-01  0.050119   9.617805     0.0  \n",
            "30  5.981248e-01  0.061276   9.761189     0.0  \n",
            "31  4.569802e-01  0.047715   9.577241     0.0  \n",
            "32  3.655029e-01  0.038959   9.381791     0.0  \n",
            "33  2.997090e-01  0.032695   9.166937     0.0  \n",
            "34  3.845400e-01  0.040778   9.430156     0.0  \n",
            "35  3.808782e-01  0.040428   9.421208     0.0  \n",
            "36  2.950373e-01  0.032251    9.14808     0.0  \n",
            "37  3.287172e-01  0.035451   9.272356     0.0  \n",
            "38  2.912590e-01  0.031893   9.132298     0.0  \n",
            "\n",
            "Kualitas_Pelayanan_Akademik:\n",
            "  AVE = 0.894\n",
            "  CR = 0.899\n",
            "  AVE: ✓ Memenuhi kriteria (≥ 0.50)\n",
            "  CR: ✓ Memenuhi kriteria (≥ 0.70)\n",
            "\n",
            "Kepuasan_Mahasiswa:\n",
            "  AVE = 0.745\n",
            "  CR = 0.705\n",
            "  AVE: ✓ Memenuhi kriteria (≥ 0.50)\n",
            "  CR: ✓ Memenuhi kriteria (≥ 0.70)\n"
          ]
        }
      ],
      "source": [
        "import pandas as pd\n",
        "from sklearn.preprocessing import StandardScaler\n",
        "from semopy import Model\n",
        "\n",
        "# 1. Standarisasi Data (untuk melakukan standar terhadap data, supaya rentang data tidak terlalu jauh)\n",
        "scaler = StandardScaler()\n",
        "df_standardized = pd.DataFrame(scaler.fit_transform(df),\n",
        "                               columns=df.columns,\n",
        "                               index=df.index)\n",
        "\n",
        "# model sem, hubungaan antara variabel dengan indikator\n",
        "model_desc = \"\"\"\n",
        "Kualitas_Pelayanan_Akademik =~ 0.8*KPA1 +KPA2 + KPA3 + KPA4 + KPA5 + KPA6 + KPA7 + KPA8 + KPA9 + KPA10 + KPA11 + KPA12 + KPA13  + KPA14 + KPA15\n",
        "Kepuasan_Mahasiswa =~ 0.75*KM1 + KM2 + KM3\n",
        "Kepuasan_Mahasiswa ~ Kualitas_Pelayanan_Akademik\n",
        "\"\"\"\n",
        "\n",
        "# 3. Create and Fit the Model\n",
        "model = Model(model_desc)\n",
        "model.fit(df_standardized)\n",
        "\n",
        "# Tampilkan hasil\n",
        "print(model.inspect())\n",
        "\n",
        "# 4. Inspect Results\n",
        "std_estimates = model.inspect(std_est=True)\n",
        "\n",
        "\n",
        "\n",
        "# 5. Hitung AVE dan CR untuk Setiap Konstruk Laten\n",
        "latent_vars = [\"Kualitas_Pelayanan_Akademik\", \"Kepuasan_Mahasiswa\"]\n",
        "\n",
        "if \"lval\" not in std_estimates.columns or \"Estimate\" not in std_estimates.columns:\n",
        "    print(\"Peringatan: Data hasil estimasi tidak memiliki kolom yang diperlukan.\")\n",
        "    print(std_estimates)  # Debugging\n",
        "    exit()\n",
        "\n",
        "for latent_var in latent_vars:\n",
        "    current_loadings = std_estimates.loc[std_estimates['lval'] == latent_var, 'Estimate'].tolist()\n",
        "\n",
        "    if not current_loadings:\n",
        "        print(f\"Peringatan: Tidak ditemukan outer loadings untuk {latent_var}. AVE dan CR tidak dihitung.\")\n",
        "        print(f\"Pastikan nama variabel laten di model_desc sesuai dengan nama kolom di dataframe.\")\n",
        "        print(f\"Outer loadings dataframe:\\n{std_estimates}\")  # Debugging\n",
        "        continue\n",
        "\n",
        "    squared_loadings = [x**2 for x in current_loadings]  # Mengkuadratkan outer loadings\n",
        "    error_variance = [1 - x**2 for x in current_loadings]  # Menghitung error variance\n",
        "\n",
        "    # Menghitung AVE\n",
        "    AVE = sum(squared_loadings) / len(squared_loadings)\n",
        "\n",
        "    # Menghitung CR\n",
        "    CR = (sum(current_loadings) ) / ( (sum(current_loadings)) + (sum(error_variance)))\n",
        "\n",
        "    print(f\"\\n{latent_var}:\")\n",
        "    print(f\"  AVE = {AVE:.3f}\")\n",
        "    print(f\"  CR = {CR:.3f}\")\n",
        "\n",
        "    # Interpretasi AVE dan CR\n",
        "    print(f\"  AVE: {'✓ Memenuhi kriteria (≥ 0.50)' if AVE >= 0.50 else '✗ Tidak memenuhi kriteria (< 0.50)'}\")\n",
        "    print(f\"  CR: {'✓ Memenuhi kriteria (≥ 0.70)' if CR >= 0.70 else '✗ Tidak memenuhi kriteria (< 0.70)'}\")\n",
        "\n",
        "\n"
      ]
    },
    {
      "cell_type": "markdown",
      "metadata": {
        "id": "OOrEFZ5yfZ_v"
      },
      "source": [
        "### Cronbach’s Alpha"
      ]
    },
    {
      "cell_type": "code",
      "execution_count": null,
      "metadata": {
        "colab": {
          "base_uri": "https://localhost:8080/"
        },
        "id": "KfOOa1O04Ise",
        "outputId": "02df0e7b-de4a-4bc3-f269-82be1fecb27a"
      },
      "outputs": [
        {
          "output_type": "stream",
          "name": "stdout",
          "text": [
            "Cronbach’s Alpha: 0.950\n"
          ]
        }
      ],
      "source": [
        "import pingouin as pg\n",
        "\n",
        "# Daftar indikator sesuai dengan model\n",
        "cols = [\"KPA1\", \"KPA2\", \"KPA3\", \"KPA4\", \"KPA5\", \"KPA6\", \"KPA7\",\n",
        "        \"KPA9\", \"KPA10\", \"KPA11\", \"KPA12\", \"KPA13\", \"KPA14\", \"KPA15\"]\n",
        "\n",
        "# Filter hanya kolom yang ada di DataFrame\n",
        "valid_cols = [col for col in cols if col in df_standardized.columns]\n",
        "\n",
        "# Pastikan minimal ada 2 indikator untuk menghitung Alpha\n",
        "if len(valid_cols) >= 2:\n",
        "    alpha, _ = pg.cronbach_alpha(df_standardized[valid_cols])\n",
        "    print(f\"Cronbach’s Alpha: {alpha:.3f}\")\n",
        "else:\n",
        "    print(f\"Peringatan: Tidak cukup indikator untuk menghitung Cronbach’s Alpha (ditemukan: {len(valid_cols)})\")\n"
      ]
    },
    {
      "cell_type": "code",
      "execution_count": null,
      "metadata": {
        "id": "fI5JBFnu4Oye",
        "colab": {
          "base_uri": "https://localhost:8080/"
        },
        "outputId": "f76b0ef8-99a7-4de7-e083-b8953cc63b7e"
      },
      "outputs": [
        {
          "output_type": "stream",
          "name": "stdout",
          "text": [
            "Cronbach’s Alpha: 0.814\n"
          ]
        }
      ],
      "source": [
        "import pingouin as pg\n",
        "\n",
        "# Daftar indikator sesuai dengan model\n",
        "cols = [\"KM1\" , \"KM2\" , \"KM3\"]\n",
        "\n",
        "# Filter hanya kolom yang ada di DataFrame\n",
        "valid_cols = [col for col in cols if col in df_standardized.columns]\n",
        "\n",
        "# Pastikan minimal ada 2 indikator untuk menghitung Alpha\n",
        "if len(valid_cols) >= 2:\n",
        "    alpha, _ = pg.cronbach_alpha(df_standardized[valid_cols])\n",
        "    print(f\"Cronbach’s Alpha: {alpha:.3f}\")\n",
        "else:\n",
        "    print(f\"Peringatan: Tidak cukup indikator untuk menghitung Cronbach’s Alpha (ditemukan: {len(valid_cols)})\")\n"
      ]
    },
    {
      "cell_type": "markdown",
      "metadata": {
        "id": "vB1DPlsBfptA"
      },
      "source": [
        "### Fornell-Larcker Criterion"
      ]
    },
    {
      "cell_type": "code",
      "execution_count": null,
      "metadata": {
        "id": "h3ueI-_aVeaH"
      },
      "outputs": [],
      "source": [
        "import numpy as np\n",
        "import pandas as pd\n",
        "\n",
        "def fornell_larcker(ave, correlation_matrix):\n",
        "    \"\"\"\n",
        "    Menghitung kriteria Fornell-Larcker.\n",
        "\n",
        "    Parameters:\n",
        "    ave (dict): Dictionary yang berisi AVE untuk setiap konstruk.\n",
        "    correlation_matrix (pd.DataFrame): DataFrame korelasi antar konstruk.\n",
        "\n",
        "    Returns:\n",
        "    pd.DataFrame: Matriks Fornell-Larcker.\n",
        "    \"\"\"\n",
        "    constructs = list(ave.keys())\n",
        "    fornell_matrix = pd.DataFrame(index=constructs, columns=constructs)\n",
        "\n",
        "    for i in constructs:\n",
        "        for j in constructs:\n",
        "            if i == j:\n",
        "                fornell_matrix.loc[i, j] = np.sqrt(ave[i])  # akar kuadrat AVE di diagonal\n",
        "            else:\n",
        "                fornell_matrix.loc[i, j] = correlation_matrix.loc[i, j]  # Korelasi antar konstruk\n",
        "\n",
        "    return fornell_matrix\n",
        "\n",
        "# Contoh Data: AVE untuk setiap konstruk\n",
        "ave_values = {\n",
        "    \"Kepuasan_Mahasiswa\": 0.745,\n",
        "    \"Kualitas_Pelayanan_Akademik\": 0.894,\n",
        "}\n",
        "\n",
        "\n",
        "# Get correlation from existing correlation_matrix DataFrame\n",
        "correlation_data = df_standardized[['Kepuasan_Mahasiswa', 'Kualitas_Pelayanan_Akademik']].corr()\n",
        "#correlation_data = correlation_matrix # Assuming correlation_matrix is already calculated\n",
        "\n",
        "# Konversi ke DataFrame using the existing correlation_matrix\n",
        "#correlation_matrix = pd.DataFrame(correlation_data, index=correlation_data.keys()) # Assuming correlation_matrix is already calculated\n",
        "correlation_matrix = correlation_data\n",
        "# Hitung Fornell-Larcker Criterion\n",
        "fornell_result = fornell_larcker(ave_values, correlation_matrix)\n",
        "\n",
        "# Tampilkan hasil\n",
        "print(\"Fornell-Larcker Criterion:\")\n",
        "print(fornell_result)"
      ]
    },
    {
      "cell_type": "markdown",
      "metadata": {
        "id": "3vRWjn1Ofw9X"
      },
      "source": [
        "### Heterotrait-Monotrait Ratio (HTMT)"
      ]
    },
    {
      "cell_type": "code",
      "execution_count": null,
      "metadata": {
        "colab": {
          "base_uri": "https://localhost:8080/"
        },
        "id": "9ZEoM0bhbcUl",
        "outputId": "9f80b1c6-8126-4420-c1a0-555895a270d4"
      },
      "outputs": [
        {
          "output_type": "stream",
          "name": "stdout",
          "text": [
            "Matriks Korelasi Antar Indikator:\n",
            "            KM1       KM2       KM3      KPA1      KPA2      KPA3      KPA4  \\\n",
            "KM1    1.000000  0.547234  0.560404  0.718401  0.695875  0.735102  0.734353   \n",
            "KM2    0.547234  1.000000  0.670546  0.452028  0.527125  0.463154  0.554018   \n",
            "KM3    0.560404  0.670546  1.000000  0.487088  0.528411  0.422970  0.544167   \n",
            "KPA1   0.718401  0.452028  0.487088  1.000000  0.653207  0.678319  0.647767   \n",
            "KPA2   0.695875  0.527125  0.528411  0.653207  1.000000  0.611563  0.584546   \n",
            "KPA3   0.735102  0.463154  0.422970  0.678319  0.611563  1.000000  0.708260   \n",
            "KPA4   0.734353  0.554018  0.544167  0.647767  0.584546  0.708260  1.000000   \n",
            "KPA5   0.698991  0.514542  0.492904  0.579532  0.543050  0.705734  0.663931   \n",
            "KPA6   0.726671  0.504622  0.485602  0.564035  0.606273  0.680772  0.610847   \n",
            "KPA7   0.755288  0.505969  0.547736  0.657582  0.548314  0.632579  0.747085   \n",
            "KPA9   0.762284  0.492635  0.558164  0.622976  0.582420  0.670382  0.704561   \n",
            "KPA10  0.595363  0.503523  0.464620  0.572795  0.507313  0.564789  0.642192   \n",
            "KPA11  0.595443  0.512472  0.482030  0.561926  0.572337  0.561835  0.516627   \n",
            "KPA12  0.571683  0.523702  0.551495  0.584549  0.539046  0.461072  0.585088   \n",
            "KPA13  0.635154  0.543751  0.525201  0.590817  0.541915  0.589040  0.668051   \n",
            "KPA14  0.662306  0.437832  0.624474  0.553711  0.542517  0.494608  0.600846   \n",
            "KPA15  0.567586  0.485000  0.548114  0.467490  0.462697  0.454379  0.455642   \n",
            "\n",
            "           KPA5      KPA6      KPA7      KPA9     KPA10     KPA11     KPA12  \\\n",
            "KM1    0.698991  0.726671  0.755288  0.762284  0.595363  0.595443  0.571683   \n",
            "KM2    0.514542  0.504622  0.505969  0.492635  0.503523  0.512472  0.523702   \n",
            "KM3    0.492904  0.485602  0.547736  0.558164  0.464620  0.482030  0.551495   \n",
            "KPA1   0.579532  0.564035  0.657582  0.622976  0.572795  0.561926  0.584549   \n",
            "KPA2   0.543050  0.606273  0.548314  0.582420  0.507313  0.572337  0.539046   \n",
            "KPA3   0.705734  0.680772  0.632579  0.670382  0.564789  0.561835  0.461072   \n",
            "KPA4   0.663931  0.610847  0.747085  0.704561  0.642192  0.516627  0.585088   \n",
            "KPA5   1.000000  0.626969  0.697287  0.704093  0.552389  0.446461  0.458130   \n",
            "KPA6   0.626969  1.000000  0.653027  0.724734  0.526589  0.512530  0.452569   \n",
            "KPA7   0.697287  0.653027  1.000000  0.771414  0.548169  0.496746  0.489502   \n",
            "KPA9   0.704093  0.724734  0.771414  1.000000  0.505488  0.484452  0.488624   \n",
            "KPA10  0.552389  0.526589  0.548169  0.505488  1.000000  0.694912  0.687652   \n",
            "KPA11  0.446461  0.512530  0.496746  0.484452  0.694912  1.000000  0.642984   \n",
            "KPA12  0.458130  0.452569  0.489502  0.488624  0.687652  0.642984  1.000000   \n",
            "KPA13  0.524179  0.559213  0.589057  0.573738  0.705011  0.672141  0.716705   \n",
            "KPA14  0.525691  0.532038  0.610404  0.586617  0.522843  0.431630  0.550354   \n",
            "KPA15  0.468759  0.513230  0.519922  0.527176  0.390970  0.464823  0.520469   \n",
            "\n",
            "          KPA13     KPA14     KPA15  \n",
            "KM1    0.635154  0.662306  0.567586  \n",
            "KM2    0.543751  0.437832  0.485000  \n",
            "KM3    0.525201  0.624474  0.548114  \n",
            "KPA1   0.590817  0.553711  0.467490  \n",
            "KPA2   0.541915  0.542517  0.462697  \n",
            "KPA3   0.589040  0.494608  0.454379  \n",
            "KPA4   0.668051  0.600846  0.455642  \n",
            "KPA5   0.524179  0.525691  0.468759  \n",
            "KPA6   0.559213  0.532038  0.513230  \n",
            "KPA7   0.589057  0.610404  0.519922  \n",
            "KPA9   0.573738  0.586617  0.527176  \n",
            "KPA10  0.705011  0.522843  0.390970  \n",
            "KPA11  0.672141  0.431630  0.464823  \n",
            "KPA12  0.716705  0.550354  0.520469  \n",
            "KPA13  1.000000  0.551207  0.526462  \n",
            "KPA14  0.551207  1.000000  0.567605  \n",
            "KPA15  0.526462  0.567605  1.000000  \n",
            "\n",
            "HTMT untuk Kepuasan Mahasiswa: 0.593\n",
            "HTMT untuk Kualitas Pelayanan Akademik: 0.576\n",
            "Heterotrait-Monotrait Ratio (HTMT) antara Konstruk Kepuasan Mahasiswa dan Kualitas Pelayanan Akademik: 0.565\n"
          ]
        }
      ],
      "source": [
        "import pandas as pd\n",
        "import pingouin as pg\n",
        "\n",
        "# Misalkan df_standardized adalah DataFrame yang sudah distandardisasi\n",
        "# Data indikator sesuai dengan model\n",
        "# Indikator untuk Kepuasan Mahasiswa\n",
        "kepuasan_mahasiswa = [\"KM1\", \"KM2\", \"KM3\"]\n",
        "# Indikator untuk Kualitas Pelayanan Akademik\n",
        "kualitas_pelayanan_akademik = [\"KPA1\", \"KPA2\", \"KPA3\", \"KPA4\", \"KPA5\", \"KPA6\", \"KPA7\",\n",
        "                               \"KPA9\", \"KPA10\", \"KPA11\", \"KPA12\", \"KPA13\", \"KPA14\", \"KPA15\"]\n",
        "\n",
        "# Filter hanya kolom yang ada di DataFrame\n",
        "valid_cols_kepuasan = [col for col in kepuasan_mahasiswa if col in df_standardized.columns]\n",
        "valid_cols_pelayanan = [col for col in kualitas_pelayanan_akademik if col in df_standardized.columns]\n",
        "\n",
        "# Memastikan ada cukup indikator\n",
        "if len(valid_cols_kepuasan) >= 2 and len(valid_cols_pelayanan) >= 2:\n",
        "    # Matriks korelasi antar indikator\n",
        "    correlation_matrix = df_standardized[valid_cols_kepuasan + valid_cols_pelayanan].corr()\n",
        "\n",
        "    # Menampilkan matriks korelasi antar konstruk\n",
        "    print(\"Matriks Korelasi Antar Indikator:\")\n",
        "    print(correlation_matrix)\n",
        "\n",
        "    # Heterotrait-Monotrait Ratio (HTMT) antara konstruk\n",
        "    # Menghitung korelasi antar konstruk\n",
        "    htmt_kepuasan = 0\n",
        "    htmt_pelayanan = 0\n",
        "    count_kepuasan = 0\n",
        "    count_pelayanan = 0\n",
        "\n",
        "    # Menghitung rata-rata korelasi antar indikator dalam Kepuasan Mahasiswa\n",
        "    for col1 in valid_cols_kepuasan:\n",
        "        for col2 in valid_cols_kepuasan:\n",
        "            if col1 != col2:\n",
        "                htmt_kepuasan += correlation_matrix.loc[col1, col2]\n",
        "                count_kepuasan += 1\n",
        "\n",
        "    # Menghitung rata-rata korelasi antar indikator dalam Kualitas Pelayanan Akademik\n",
        "    for col1 in valid_cols_pelayanan:\n",
        "        for col2 in valid_cols_pelayanan:\n",
        "            if col1 != col2:\n",
        "                htmt_pelayanan += correlation_matrix.loc[col1, col2]\n",
        "                count_pelayanan += 1\n",
        "\n",
        "    # Rata-rata korelasi untuk setiap konstruk\n",
        "    htmt_kepuasan /= count_kepuasan\n",
        "    htmt_pelayanan /= count_pelayanan\n",
        "\n",
        "    # Heterotrait-Monotrait Ratio (HTMT) antar konstruk\n",
        "    htmt_value = 0\n",
        "    count = 0\n",
        "\n",
        "    # Menghitung HTMT antar konstruk\n",
        "    for col1 in valid_cols_kepuasan:\n",
        "        for col2 in valid_cols_pelayanan:\n",
        "            htmt_value += correlation_matrix.loc[col1, col2]\n",
        "            count += 1\n",
        "\n",
        "    # Rata-rata HTMT antar konstruk\n",
        "    htmt_value /= count\n",
        "\n",
        "    # Menampilkan hasil\n",
        "    print(f\"\\nHTMT untuk Kepuasan Mahasiswa: {htmt_kepuasan:.3f}\")\n",
        "    print(f\"HTMT untuk Kualitas Pelayanan Akademik: {htmt_pelayanan:.3f}\")\n",
        "    print(f\"Heterotrait-Monotrait Ratio (HTMT) antara Konstruk Kepuasan Mahasiswa dan Kualitas Pelayanan Akademik: {htmt_value:.3f}\")\n",
        "\n",
        "else:\n",
        "    print(f\"Peringatan: Tidak cukup indikator untuk menghitung HTMT (ditemukan: Kepuasan Mahasiswa = {len(valid_cols_kepuasan)}, Kualitas Pelayanan Akademik = {len(valid_cols_pelayanan)})\")\n"
      ]
    },
    {
      "cell_type": "code",
      "execution_count": null,
      "metadata": {
        "id": "Lj2ZKcbvgEve"
      },
      "outputs": [],
      "source": [
        "# import pandas as pd\n",
        "# from sklearn.preprocessing import StandardScaler\n",
        "# from semopy import Model, calc_stats\n",
        "\n",
        "\n",
        "\n",
        "# # 2️⃣ Standarisasi Data\n",
        "# scaler = StandardScaler()\n",
        "# df_standardized = pd.DataFrame(scaler.fit_transform(df),\n",
        "#                                columns=df.columns,\n",
        "#                                index=df.index)\n",
        "\n",
        "# # 3️⃣ Definisikan Model SEM\n",
        "# model_desc = \"\"\"\n",
        "# Kualitas_Pelayanan_Akademik =~ 0.8*KPA1 + KPA2 + KPA3 + KPA4 + KPA5 + KPA6 + KPA7 + KPA9 + KPA10 + KPA13 + KPA14\n",
        "# Kepuasan_Mahasiswa =~ 0.75*KM1 + KM5 + KM7\n",
        "# Kepuasan_Mahasiswa ~ Kualitas_Pelayanan_Akademik\n",
        "# \"\"\"\n",
        "\n",
        "# # 3. Create and Fit the Model\n",
        "# model = Model(model_desc)\n",
        "# model.fit(df_standardized)\n",
        "\n",
        "# # 5️⃣ Cek Parameter Model\n",
        "# print(\"\\n🔹 Parameter Model:\")\n",
        "# print(model.inspect('parameters'))\n",
        "\n",
        "# # 6️⃣ Cek Goodness-of-Fit Indices\n",
        "# try:\n",
        "#     fit_indices = calc_stats(model)  # Menggunakan calc_stats\n",
        "#     print(\"\\n🔹 Goodness-of-Fit Indices:\")\n",
        "#     print(fit_indices)\n",
        "# except Exception as e:\n",
        "#     print(\"\\n⚠️ ERROR saat menghitung Goodness-of-Fit Indices:\")\n",
        "#     print(e)\n",
        "\n",
        "# # 7️⃣ Debugging Tambahan: Cek Matriks Model\n",
        "\n"
      ]
    },
    {
      "cell_type": "markdown",
      "metadata": {
        "id": "bym8J495gCfF"
      },
      "source": [
        "### Analisis faktor"
      ]
    },
    {
      "cell_type": "code",
      "execution_count": null,
      "metadata": {
        "id": "KkYm04dLihqO",
        "colab": {
          "base_uri": "https://localhost:8080/"
        },
        "outputId": "80f0f890-6e0c-4ba3-e19a-660888258c30"
      },
      "outputs": [
        {
          "output_type": "stream",
          "name": "stdout",
          "text": [
            "Collecting factor-analyzer\n",
            "  Downloading factor_analyzer-0.5.1.tar.gz (42 kB)\n",
            "\u001b[?25l     \u001b[90m━━━━━━━━━━━━━━━━━━━━━━━━━━━━━━━━━━━━━━━━\u001b[0m \u001b[32m0.0/42.8 kB\u001b[0m \u001b[31m?\u001b[0m eta \u001b[36m-:--:--\u001b[0m\r\u001b[2K     \u001b[90m━━━━━━━━━━━━━━━━━━━━━━━━━━━━━━━━━━━━━━━━\u001b[0m \u001b[32m42.8/42.8 kB\u001b[0m \u001b[31m1.6 MB/s\u001b[0m eta \u001b[36m0:00:00\u001b[0m\n",
            "\u001b[?25h  Installing build dependencies ... \u001b[?25l\u001b[?25hdone\n",
            "  Getting requirements to build wheel ... \u001b[?25l\u001b[?25hdone\n",
            "  Preparing metadata (pyproject.toml) ... \u001b[?25l\u001b[?25hdone\n",
            "Requirement already satisfied: pandas in /usr/local/lib/python3.11/dist-packages (from factor-analyzer) (2.2.2)\n",
            "Requirement already satisfied: scipy in /usr/local/lib/python3.11/dist-packages (from factor-analyzer) (1.13.1)\n",
            "Requirement already satisfied: numpy in /usr/local/lib/python3.11/dist-packages (from factor-analyzer) (1.26.4)\n",
            "Requirement already satisfied: scikit-learn in /usr/local/lib/python3.11/dist-packages (from factor-analyzer) (1.6.1)\n",
            "Requirement already satisfied: python-dateutil>=2.8.2 in /usr/local/lib/python3.11/dist-packages (from pandas->factor-analyzer) (2.8.2)\n",
            "Requirement already satisfied: pytz>=2020.1 in /usr/local/lib/python3.11/dist-packages (from pandas->factor-analyzer) (2025.1)\n",
            "Requirement already satisfied: tzdata>=2022.7 in /usr/local/lib/python3.11/dist-packages (from pandas->factor-analyzer) (2025.1)\n",
            "Requirement already satisfied: joblib>=1.2.0 in /usr/local/lib/python3.11/dist-packages (from scikit-learn->factor-analyzer) (1.4.2)\n",
            "Requirement already satisfied: threadpoolctl>=3.1.0 in /usr/local/lib/python3.11/dist-packages (from scikit-learn->factor-analyzer) (3.5.0)\n",
            "Requirement already satisfied: six>=1.5 in /usr/local/lib/python3.11/dist-packages (from python-dateutil>=2.8.2->pandas->factor-analyzer) (1.17.0)\n",
            "Building wheels for collected packages: factor-analyzer\n",
            "  Building wheel for factor-analyzer (pyproject.toml) ... \u001b[?25l\u001b[?25hdone\n",
            "  Created wheel for factor-analyzer: filename=factor_analyzer-0.5.1-py2.py3-none-any.whl size=42623 sha256=2d5ea9baca7a4dcaebf39e7f2272a7ea61da4a214b560c3c28baad22f9cb3ceb\n",
            "  Stored in directory: /root/.cache/pip/wheels/fa/f7/53/a55a8a56668a6fe0199e0e02b6e0ae3007ec35cdf6e4c25df7\n",
            "Successfully built factor-analyzer\n",
            "Installing collected packages: factor-analyzer\n",
            "Successfully installed factor-analyzer-0.5.1\n"
          ]
        }
      ],
      "source": [
        "pip install factor-analyzer\n"
      ]
    },
    {
      "cell_type": "code",
      "execution_count": null,
      "metadata": {
        "colab": {
          "base_uri": "https://localhost:8080/"
        },
        "id": "ghdt5qX8iU_j",
        "outputId": "a65c55a9-bdb8-41a7-d8c6-0d97d031e0d3"
      },
      "outputs": [
        {
          "output_type": "stream",
          "name": "stdout",
          "text": [
            "KMO Score: 0.9572531810793311\n",
            "Factor Loadings:\n",
            "        Faktor 1  Faktor 2\n",
            "KPA1   0.591139  0.503230\n",
            "KPA2   0.538748  0.511929\n",
            "KPA3   0.703638  0.394184\n",
            "KPA4   0.674764  0.480035\n",
            "KPA5   0.732914  0.328225\n",
            "KPA6   0.720090  0.366566\n",
            "KPA7   0.765160  0.381455\n",
            "KPA8   0.784852  0.325650\n",
            "KPA9   0.823597  0.322318\n",
            "KPA10  0.389166  0.662672\n",
            "KPA11  0.313960  0.709875\n",
            "KPA12  0.261556  0.789188\n",
            "KPA13  0.400871  0.711378\n",
            "KM1    0.755133  0.482211\n",
            "KPA16  0.668581  0.490395\n",
            "KPA14  0.501548  0.537505\n",
            "KPA15  0.402768  0.526960\n",
            "KM2    0.368876  0.592370\n",
            "KM4    0.356558  0.691856\n",
            "KM3    0.397514  0.609108\n"
          ]
        },
        {
          "output_type": "stream",
          "name": "stderr",
          "text": [
            "/usr/local/lib/python3.11/dist-packages/factor_analyzer/utils.py:244: UserWarning: The inverse of the variance-covariance matrix was calculated using the Moore-Penrose generalized matrix inversion, due to its determinant being at or very close to zero.\n",
            "  warnings.warn(\n",
            "/usr/local/lib/python3.11/dist-packages/sklearn/utils/deprecation.py:151: FutureWarning: 'force_all_finite' was renamed to 'ensure_all_finite' in 1.6 and will be removed in 1.8.\n",
            "  warnings.warn(\n"
          ]
        }
      ],
      "source": [
        "import pandas as pd\n",
        "from factor_analyzer import FactorAnalyzer\n",
        "\n",
        "\n",
        "\n",
        "# Cek KMO Measure of Sampling Adequacy (MSA)\n",
        "from factor_analyzer.factor_analyzer import calculate_kmo\n",
        "kmo_all, kmo_model = calculate_kmo(df)\n",
        "print(f\"KMO Score: {kmo_model}\")  # Ideal KMO > 0.6\n",
        "\n",
        "# Exploratory Factor Analysis (EFA) dengan 2 faktor\n",
        "fa = FactorAnalyzer(n_factors=2, rotation=\"varimax\")\n",
        "fa.fit(df)\n",
        "\n",
        "# Faktor Loading\n",
        "loadings = pd.DataFrame(fa.loadings_, index=df.columns, columns=[\"Faktor 1\", \"Faktor 2\"])\n",
        "print(\"Factor Loadings:\\n\", loadings)\n"
      ]
    },
    {
      "cell_type": "markdown",
      "metadata": {
        "id": "Z1A_g7BOgHLI"
      },
      "source": [
        "### Matriks Korelasi"
      ]
    },
    {
      "cell_type": "code",
      "execution_count": null,
      "metadata": {
        "id": "zgwrKH1VGXDB"
      },
      "outputs": [],
      "source": [
        "import pandas as pd\n",
        "import matplotlib.pyplot as plt\n",
        "import seaborn as sns\n",
        "\n",
        "# Load data Anda\n",
        "data = df_standardized\n",
        "\n",
        "# Hitung matriks korelasi\n",
        "correlation_matrix = data.corr()\n",
        "\n",
        "# Buat heatmap\n",
        "plt.figure(figsize=(10, 8))\n",
        "sns.heatmap(correlation_matrix, annot=True, cmap=\"coolwarm\", fmt=\".2f\")\n",
        "plt.title(\"Matriks Korelasi\")\n",
        "plt.show()"
      ]
    },
    {
      "cell_type": "markdown",
      "metadata": {
        "id": "09lMfOOVgMge"
      },
      "source": [
        "# Evaluasi Model Struktural (Structural Model)"
      ]
    },
    {
      "cell_type": "markdown",
      "metadata": {
        "id": "SSWl2kQEgZH3"
      },
      "source": [
        "## Collinearity Diagnosis"
      ]
    },
    {
      "cell_type": "code",
      "execution_count": null,
      "metadata": {
        "colab": {
          "base_uri": "https://localhost:8080/"
        },
        "id": "e3Fssbwhgscp",
        "outputId": "9d4944f7-d264-43b4-d235-b9835b4057d7"
      },
      "outputs": [
        {
          "output_type": "stream",
          "name": "stdout",
          "text": [
            "Variance Inflation Factor (VIF) untuk setiap variabel:\n",
            "     Variable       VIF\n",
            "0       const  1.000000\n",
            "1        KPA1  2.866662\n",
            "2        KPA2  2.538423\n",
            "3        KPA3  3.756129\n",
            "4        KPA4  3.830714\n",
            "5        KPA5  3.030235\n",
            "6        KPA6  3.134184\n",
            "7        KPA7  4.132606\n",
            "8        KPA8  3.860010\n",
            "9        KPA9  4.214563\n",
            "10      KPA10  3.151243\n",
            "11      KPA11  2.870593\n",
            "12      KPA12  2.994575\n",
            "13      KPA13  3.156892\n",
            "14        KM1  4.689383\n",
            "15      KPA16  3.468003\n",
            "16      KPA14  2.788099\n",
            "17      KPA15  2.009867\n",
            "18        KM2  2.406580\n",
            "19        KM4  3.008097\n",
            "20        KM3  2.901228\n",
            "21  KPA (Avg)  3.237675\n",
            "22   KM (Avg)  3.251322\n"
          ]
        }
      ],
      "source": [
        "import pandas as pd\n",
        "from statsmodels.stats.outliers_influence import variance_inflation_factor\n",
        "from statsmodels.tools.tools import add_constant\n",
        "\n",
        "# Misalnya, df_standardized adalah DataFrame yang sudah distandarisasi dengan variabel independen\n",
        "\n",
        "# Tambahkan konstanta untuk intercept dalam model VIF\n",
        "X = add_constant(df_standardized)\n",
        "\n",
        "# Hitung VIF untuk setiap variabel\n",
        "vif_data = pd.DataFrame()\n",
        "vif_data[\"Variable\"] = X.columns\n",
        "vif_data[\"VIF\"] = [variance_inflation_factor(X.values, i) for i in range(X.shape[1])]\n",
        "\n",
        "# Menghitung rata-rata VIF untuk KPA dan KM\n",
        "kpa_vif = vif_data[vif_data[\"Variable\"].str.startswith(\"KPA\")][\"VIF\"].mean()\n",
        "km_vif = vif_data[vif_data[\"Variable\"].str.startswith(\"KM\")][\"VIF\"].mean()\n",
        "\n",
        "# Menambahkan rata-rata KPA dan KM ke dalam DataFrame\n",
        "vif_data.loc[len(vif_data)] = [\"KPA (Avg)\", kpa_vif]\n",
        "vif_data.loc[len(vif_data)] = [\"KM (Avg)\", km_vif]\n",
        "\n",
        "# Menampilkan hasil VIF\n",
        "print(\"Variance Inflation Factor (VIF) untuk setiap variabel:\")\n",
        "print(vif_data)\n"
      ]
    },
    {
      "cell_type": "code",
      "execution_count": null,
      "metadata": {
        "colab": {
          "base_uri": "https://localhost:8080/"
        },
        "id": "jfXWHpuszMgF",
        "outputId": "1a69d1ce-6f1f-4d99-bd18-34a4b35ceae7"
      },
      "outputs": [
        {
          "output_type": "stream",
          "name": "stdout",
          "text": [
            "Index(['lval', 'op', 'rval', 'Estimate', 'Est. Std', 'Std. Err', 'z-value',\n",
            "       'p-value'],\n",
            "      dtype='object')\n"
          ]
        }
      ],
      "source": [
        "print(model.inspect(std_est=True).columns)\n"
      ]
    },
    {
      "cell_type": "markdown",
      "metadata": {
        "id": "KQTtQQeDgZZo"
      },
      "source": [
        "## Koefisien Jalur (Path Coefficient)"
      ]
    },
    {
      "cell_type": "code",
      "execution_count": null,
      "metadata": {
        "colab": {
          "base_uri": "https://localhost:8080/"
        },
        "id": "uTluvLSuhAcQ",
        "outputId": "a28582ee-1c80-4c4a-8382-40b53599c5ec"
      },
      "outputs": [
        {
          "output_type": "stream",
          "name": "stdout",
          "text": [
            "✅ Model berhasil dijalankan tanpa error!\n",
            "Kolom yang tersedia dalam hasil inspect():\n",
            "Index(['lval', 'op', 'rval', 'Estimate', 'Est. Std', 'Std. Err', 'z-value',\n",
            "       'p-value'],\n",
            "      dtype='object')\n",
            "Path Confidence Interval (CI) untuk Variabel Laten:\n",
            "                           lval                         rval      Estimate  \\\n",
            "0            Kepuasan_Mahasiswa  Kualitas_Pelayanan_Akademik  8.899656e-01   \n",
            "1                          KPA1  Kualitas_Pelayanan_Akademik  7.000000e-01   \n",
            "2                          KPA2  Kualitas_Pelayanan_Akademik  6.630615e-01   \n",
            "3                          KPA3  Kualitas_Pelayanan_Akademik  7.167030e-01   \n",
            "4                          KPA4  Kualitas_Pelayanan_Akademik  7.529735e-01   \n",
            "5                          KPA5  Kualitas_Pelayanan_Akademik  7.058276e-01   \n",
            "6                          KPA6  Kualitas_Pelayanan_Akademik  7.080169e-01   \n",
            "7                          KPA7  Kualitas_Pelayanan_Akademik  7.554321e-01   \n",
            "8                          KPA8  Kualitas_Pelayanan_Akademik  7.372124e-01   \n",
            "9                          KPA9  Kualitas_Pelayanan_Akademik  7.574650e-01   \n",
            "10                        KPA10  Kualitas_Pelayanan_Akademik  6.464647e-01   \n",
            "11                        KPA11  Kualitas_Pelayanan_Akademik  6.103826e-01   \n",
            "12                        KPA12  Kualitas_Pelayanan_Akademik  6.184520e-01   \n",
            "13                        KPA13  Kualitas_Pelayanan_Akademik  6.807806e-01   \n",
            "14                        KPA14  Kualitas_Pelayanan_Akademik  6.475183e-01   \n",
            "15                        KPA15  Kualitas_Pelayanan_Akademik  5.703205e-01   \n",
            "16                          KM1           Kepuasan_Mahasiswa  9.000000e-01   \n",
            "17                          KM2           Kepuasan_Mahasiswa  6.552130e-01   \n",
            "18                          KM3           Kepuasan_Mahasiswa  6.828416e-01   \n",
            "19           Kepuasan_Mahasiswa           Kepuasan_Mahasiswa  4.331010e-18   \n",
            "20  Kualitas_Pelayanan_Akademik  Kualitas_Pelayanan_Akademik  1.234776e+00   \n",
            "21                          KM1                          KM1  2.073511e-01   \n",
            "22                          KM2                          KM2  5.798285e-01   \n",
            "23                          KM3                          KM3  5.437803e-01   \n",
            "24                         KPA1                         KPA1  3.947175e-01   \n",
            "25                        KPA10                        KPA10  4.837105e-01   \n",
            "26                        KPA11                        KPA11  5.396512e-01   \n",
            "27                        KPA12                        KPA12  5.275173e-01   \n",
            "28                        KPA13                        KPA13  4.275672e-01   \n",
            "29                        KPA14                        KPA14  4.820595e-01   \n",
            "30                        KPA15                        KPA15  5.981224e-01   \n",
            "31                         KPA2                         KPA2  4.569691e-01   \n",
            "32                         KPA3                         KPA3  3.654405e-01   \n",
            "33                         KPA4                         KPA4  2.997182e-01   \n",
            "34                         KPA5                         KPA5  3.845664e-01   \n",
            "35                         KPA6                         KPA6  3.809782e-01   \n",
            "36                         KPA7                         KPA7  2.949737e-01   \n",
            "37                         KPA8                         KPA8  3.287244e-01   \n",
            "38                         KPA9                         KPA9  2.912002e-01   \n",
            "\n",
            "    CI Lower  CI Upper  \n",
            "0   0.769497  1.010434  \n",
            "1        NaN       NaN  \n",
            "2   0.548550  0.777573  \n",
            "3   0.604417  0.828989  \n",
            "4   0.642300  0.863647  \n",
            "5   0.593073  0.818582  \n",
            "6   0.595339  0.820695  \n",
            "7   0.644884  0.865980  \n",
            "8   0.625823  0.848602  \n",
            "9   0.647009  0.867921  \n",
            "10  0.531316  0.761613  \n",
            "11  0.493907  0.726859  \n",
            "12  0.502258  0.734646  \n",
            "13  0.566977  0.794584  \n",
            "14  0.532408  0.762629  \n",
            "15  0.452467  0.688174  \n",
            "16       NaN       NaN  \n",
            "17  0.536494  0.773932  \n",
            "18  0.566401  0.799283  \n",
            "19 -0.060462  0.060462  \n",
            "20  0.863352  1.606201  \n",
            "21  0.143779  0.270924  \n",
            "22  0.461888  0.697769  \n",
            "23  0.432282  0.655279  \n",
            "24  0.312886  0.476549  \n",
            "25  0.385162  0.582259  \n",
            "26  0.430572  0.648730  \n",
            "27  0.420723  0.634312  \n",
            "28  0.339571  0.515563  \n",
            "29  0.383822  0.580297  \n",
            "30  0.478023  0.718222  \n",
            "31  0.363449  0.550489  \n",
            "32  0.289093  0.441788  \n",
            "33  0.235635  0.363802  \n",
            "34  0.304637  0.464495  \n",
            "35  0.301720  0.460237  \n",
            "36  0.231773  0.358174  \n",
            "37  0.259238  0.398211  \n",
            "38  0.228701  0.353700  \n"
          ]
        }
      ],
      "source": [
        "import pandas as pd\n",
        "import numpy as np\n",
        "from semopy import Model\n",
        "\n",
        "# Cek apakah semua kolom numerik\n",
        "df = df.apply(pd.to_numeric, errors='coerce')  # Ubah semua ke numerik, NaN jika gagal\n",
        "\n",
        "# Cek apakah ada NaN setelah konversi\n",
        "if df.isnull().sum().sum() > 0:\n",
        "    print(\"WARNING: Ada NaN dalam dataset! Periksa kembali data input.\")\n",
        "\n",
        "# Definisi model SEM\n",
        "\n",
        "model_path = \"\"\"\n",
        "Kualitas_Pelayanan_Akademik =~ 0.7*KPA1 +KPA2 + KPA3 + KPA4 + KPA5 + KPA6 + KPA7 + KPA8 + KPA9 + KPA10 + KPA11 + KPA12 + KPA13  + KPA14 + KPA15\n",
        "Kepuasan_Mahasiswa =~ 0.9*KM1 + KM2 + KM3\n",
        "Kepuasan_Mahasiswa ~ Kualitas_Pelayanan_Akademik\n",
        "\"\"\"\n",
        "\n",
        "\n",
        "# Jalankan model SEM\n",
        "model = Model(model_path)\n",
        "\n",
        "try:\n",
        "    model.fit(df_standardized)\n",
        "    print(\"✅ Model berhasil dijalankan tanpa error!\")\n",
        "except Exception as e:\n",
        "    print(f\"❌ Error saat menjalankan model: {e}\")\n",
        "\n",
        "# Ambil hasil estimasi dari model SEM\n",
        "try:\n",
        "    results = model.inspect(std_est=True)\n",
        "\n",
        "    # Cek kolom yang tersedia\n",
        "    print(\"Kolom yang tersedia dalam hasil inspect():\")\n",
        "    print(results.columns)\n",
        "\n",
        "    # Pastikan kolom untuk Standard Error (SE) benar\n",
        "    se_column = \"Std. Err\" if \"Std. Err\" in results.columns else \"Est. Std\"\n",
        "\n",
        "    # Konversi kolom ke float untuk menghindari error\n",
        "    results[\"Estimate\"] = pd.to_numeric(results[\"Estimate\"], errors=\"coerce\")\n",
        "    results[se_column] = pd.to_numeric(results[se_column], errors=\"coerce\")\n",
        "\n",
        "    # Hitung Confidence Interval (CI)\n",
        "    results[\"CI Lower\"] = results[\"Estimate\"] - 1.96 * results[se_column]\n",
        "    results[\"CI Upper\"] = results[\"Estimate\"] + 1.96 * results[se_column]\n",
        "\n",
        "    # Tampilkan hasil\n",
        "    print(\"Path Confidence Interval (CI) untuk Variabel Laten:\")\n",
        "    print(results[[\"lval\", \"rval\", \"Estimate\", \"CI Lower\", \"CI Upper\"]])\n",
        "\n",
        "except KeyError as ke:\n",
        "    print(f\"KeyError: {ke} - Pastikan kolom yang dicari ada dalam output model!\")\n",
        "except Exception as e:\n",
        "    print(f\"Error lain: {e}\")\n"
      ]
    },
    {
      "cell_type": "markdown",
      "metadata": {
        "id": "OciKym0YgYaj"
      },
      "source": [
        "## Uji R2 dan Q2"
      ]
    },
    {
      "cell_type": "code",
      "execution_count": null,
      "metadata": {
        "colab": {
          "base_uri": "https://localhost:8080/"
        },
        "id": "CoxE6FdiCrOZ",
        "outputId": "d52e7939-7f6e-48f9-c3d7-2d352ea0eff5"
      },
      "outputs": [
        {
          "output_type": "stream",
          "name": "stdout",
          "text": [
            "   Kualitas_Pelayanan_Akademik  Kepuasan_Mahasiswa\n",
            "0                    -0.046070           -0.072085\n",
            "1                     0.561755            0.445739\n",
            "2                    -0.046070           -0.072085\n",
            "3                    -0.330831           -0.072085\n",
            "4                    -0.046070           -0.072085\n"
          ]
        }
      ],
      "source": [
        "import numpy as np\n",
        "\n",
        "# Ambil indikator untuk masing-masing faktor laten\n",
        "indicators_kpa = [\"KPA1\", \"KPA2\", \"KPA3\", \"KPA4\", \"KPA5\", \"KPA6\", \"KPA7\", \"KPA8\", \"KPA9\", \"KPA10\", \"KPA11\", \"KPA12\", \"KPA13\", \"KPA14\", \"KPA15\"]\n",
        "indicators_km = [\"KM1\", \"KM2\", \"KM3\"]\n",
        "\n",
        "# Hitung skor laten sebagai rata-rata indikatornya\n",
        "df_standardized[\"Kualitas_Pelayanan_Akademik\"] = df_standardized[indicators_kpa].mean(axis=1)\n",
        "df_standardized[\"Kepuasan_Mahasiswa\"] = df_standardized[indicators_km].mean(axis=1)\n",
        "\n",
        "print(df_standardized[[\"Kualitas_Pelayanan_Akademik\", \"Kepuasan_Mahasiswa\"]].head())\n"
      ]
    },
    {
      "cell_type": "markdown",
      "metadata": {
        "id": "T9nt5v8vK_-N"
      },
      "source": [
        "### R Square"
      ]
    },
    {
      "cell_type": "code",
      "execution_count": null,
      "metadata": {
        "colab": {
          "base_uri": "https://localhost:8080/"
        },
        "id": "qfCkO_Wih_ef",
        "outputId": "fc8b3acb-6595-4eb5-d1ca-b59c1e276dc9"
      },
      "outputs": [
        {
          "output_type": "stream",
          "name": "stdout",
          "text": [
            "R² (Koefisien Determinasi) = 0.724\n",
            "Adjusted R² = 0.723\n"
          ]
        }
      ],
      "source": [
        "from sklearn.linear_model import LinearRegression\n",
        "from sklearn.metrics import r2_score\n",
        "\n",
        "\n",
        "# Model regresi untuk menghitung R²\n",
        "X = df_standardized[[\"Kualitas_Pelayanan_Akademik\"]]\n",
        "y = df_standardized[\"Kepuasan_Mahasiswa\"]\n",
        "\n",
        "# Jumlah sampel (n) dan jumlah variabel independen (k)\n",
        "n = X.shape[0]  # Jumlah baris (sampel)\n",
        "k = X.shape[1]  # Jumlah prediktor\n",
        "\n",
        "# Buat model regresi\n",
        "model_reg = LinearRegression()\n",
        "model_reg.fit(X, y)\n",
        "y_pred = model_reg.predict(X)\n",
        "\n",
        "# Hitung R²\n",
        "r_squared = r2_score(y, y_pred)\n",
        "\n",
        "# Hitung Adjusted R²\n",
        "adjusted_r_squared = 1 - ((1 - r_squared) * (n - 1) / (n - k - 1))\n",
        "\n",
        "# Tampilkan hasil\n",
        "print(f\"R² (Koefisien Determinasi) = {r_squared:.3f}\")\n",
        "print(f\"Adjusted R² = {adjusted_r_squared:.3f}\")\n"
      ]
    },
    {
      "cell_type": "markdown",
      "metadata": {
        "id": "mT9pLWC2MIY7"
      },
      "source": [
        "### Q Square"
      ]
    },
    {
      "cell_type": "code",
      "execution_count": null,
      "metadata": {
        "colab": {
          "base_uri": "https://localhost:8080/",
          "height": 373
        },
        "collapsed": true,
        "id": "FsTIZM2_L1vF",
        "outputId": "23379c01-9d44-4da2-c258-714e7017e476"
      },
      "outputs": [
        {
          "output_type": "error",
          "ename": "KeyError",
          "evalue": "\"None of [Index(['Kualitas_Pelayanan_Akademik'], dtype='object')] are in the [columns]\"",
          "traceback": [
            "\u001b[0;31m---------------------------------------------------------------------------\u001b[0m",
            "\u001b[0;31mKeyError\u001b[0m                                  Traceback (most recent call last)",
            "\u001b[0;32m<ipython-input-17-854b4cf9b046>\u001b[0m in \u001b[0;36m<cell line: 0>\u001b[0;34m()\u001b[0m\n\u001b[1;32m      5\u001b[0m \u001b[0;34m\u001b[0m\u001b[0m\n\u001b[1;32m      6\u001b[0m \u001b[0;31m# Model regresi untuk menghitung R²\u001b[0m\u001b[0;34m\u001b[0m\u001b[0;34m\u001b[0m\u001b[0m\n\u001b[0;32m----> 7\u001b[0;31m \u001b[0mX\u001b[0m \u001b[0;34m=\u001b[0m \u001b[0mdf_standardized\u001b[0m\u001b[0;34m[\u001b[0m\u001b[0;34m[\u001b[0m\u001b[0;34m\"Kualitas_Pelayanan_Akademik\"\u001b[0m\u001b[0;34m]\u001b[0m\u001b[0;34m]\u001b[0m\u001b[0;34m\u001b[0m\u001b[0;34m\u001b[0m\u001b[0m\n\u001b[0m\u001b[1;32m      8\u001b[0m \u001b[0my\u001b[0m \u001b[0;34m=\u001b[0m \u001b[0mdf_standardized\u001b[0m\u001b[0;34m[\u001b[0m\u001b[0;34m\"Kepuasan_Mahasiswa\"\u001b[0m\u001b[0;34m]\u001b[0m\u001b[0;34m\u001b[0m\u001b[0;34m\u001b[0m\u001b[0m\n\u001b[1;32m      9\u001b[0m \u001b[0;34m\u001b[0m\u001b[0m\n",
            "\u001b[0;32m/usr/local/lib/python3.11/dist-packages/pandas/core/frame.py\u001b[0m in \u001b[0;36m__getitem__\u001b[0;34m(self, key)\u001b[0m\n\u001b[1;32m   4106\u001b[0m             \u001b[0;32mif\u001b[0m \u001b[0mis_iterator\u001b[0m\u001b[0;34m(\u001b[0m\u001b[0mkey\u001b[0m\u001b[0;34m)\u001b[0m\u001b[0;34m:\u001b[0m\u001b[0;34m\u001b[0m\u001b[0;34m\u001b[0m\u001b[0m\n\u001b[1;32m   4107\u001b[0m                 \u001b[0mkey\u001b[0m \u001b[0;34m=\u001b[0m \u001b[0mlist\u001b[0m\u001b[0;34m(\u001b[0m\u001b[0mkey\u001b[0m\u001b[0;34m)\u001b[0m\u001b[0;34m\u001b[0m\u001b[0;34m\u001b[0m\u001b[0m\n\u001b[0;32m-> 4108\u001b[0;31m             \u001b[0mindexer\u001b[0m \u001b[0;34m=\u001b[0m \u001b[0mself\u001b[0m\u001b[0;34m.\u001b[0m\u001b[0mcolumns\u001b[0m\u001b[0;34m.\u001b[0m\u001b[0m_get_indexer_strict\u001b[0m\u001b[0;34m(\u001b[0m\u001b[0mkey\u001b[0m\u001b[0;34m,\u001b[0m \u001b[0;34m\"columns\"\u001b[0m\u001b[0;34m)\u001b[0m\u001b[0;34m[\u001b[0m\u001b[0;36m1\u001b[0m\u001b[0;34m]\u001b[0m\u001b[0;34m\u001b[0m\u001b[0;34m\u001b[0m\u001b[0m\n\u001b[0m\u001b[1;32m   4109\u001b[0m \u001b[0;34m\u001b[0m\u001b[0m\n\u001b[1;32m   4110\u001b[0m         \u001b[0;31m# take() does not accept boolean indexers\u001b[0m\u001b[0;34m\u001b[0m\u001b[0;34m\u001b[0m\u001b[0m\n",
            "\u001b[0;32m/usr/local/lib/python3.11/dist-packages/pandas/core/indexes/base.py\u001b[0m in \u001b[0;36m_get_indexer_strict\u001b[0;34m(self, key, axis_name)\u001b[0m\n\u001b[1;32m   6198\u001b[0m             \u001b[0mkeyarr\u001b[0m\u001b[0;34m,\u001b[0m \u001b[0mindexer\u001b[0m\u001b[0;34m,\u001b[0m \u001b[0mnew_indexer\u001b[0m \u001b[0;34m=\u001b[0m \u001b[0mself\u001b[0m\u001b[0;34m.\u001b[0m\u001b[0m_reindex_non_unique\u001b[0m\u001b[0;34m(\u001b[0m\u001b[0mkeyarr\u001b[0m\u001b[0;34m)\u001b[0m\u001b[0;34m\u001b[0m\u001b[0;34m\u001b[0m\u001b[0m\n\u001b[1;32m   6199\u001b[0m \u001b[0;34m\u001b[0m\u001b[0m\n\u001b[0;32m-> 6200\u001b[0;31m         \u001b[0mself\u001b[0m\u001b[0;34m.\u001b[0m\u001b[0m_raise_if_missing\u001b[0m\u001b[0;34m(\u001b[0m\u001b[0mkeyarr\u001b[0m\u001b[0;34m,\u001b[0m \u001b[0mindexer\u001b[0m\u001b[0;34m,\u001b[0m \u001b[0maxis_name\u001b[0m\u001b[0;34m)\u001b[0m\u001b[0;34m\u001b[0m\u001b[0;34m\u001b[0m\u001b[0m\n\u001b[0m\u001b[1;32m   6201\u001b[0m \u001b[0;34m\u001b[0m\u001b[0m\n\u001b[1;32m   6202\u001b[0m         \u001b[0mkeyarr\u001b[0m \u001b[0;34m=\u001b[0m \u001b[0mself\u001b[0m\u001b[0;34m.\u001b[0m\u001b[0mtake\u001b[0m\u001b[0;34m(\u001b[0m\u001b[0mindexer\u001b[0m\u001b[0;34m)\u001b[0m\u001b[0;34m\u001b[0m\u001b[0;34m\u001b[0m\u001b[0m\n",
            "\u001b[0;32m/usr/local/lib/python3.11/dist-packages/pandas/core/indexes/base.py\u001b[0m in \u001b[0;36m_raise_if_missing\u001b[0;34m(self, key, indexer, axis_name)\u001b[0m\n\u001b[1;32m   6247\u001b[0m         \u001b[0;32mif\u001b[0m \u001b[0mnmissing\u001b[0m\u001b[0;34m:\u001b[0m\u001b[0;34m\u001b[0m\u001b[0;34m\u001b[0m\u001b[0m\n\u001b[1;32m   6248\u001b[0m             \u001b[0;32mif\u001b[0m \u001b[0mnmissing\u001b[0m \u001b[0;34m==\u001b[0m \u001b[0mlen\u001b[0m\u001b[0;34m(\u001b[0m\u001b[0mindexer\u001b[0m\u001b[0;34m)\u001b[0m\u001b[0;34m:\u001b[0m\u001b[0;34m\u001b[0m\u001b[0;34m\u001b[0m\u001b[0m\n\u001b[0;32m-> 6249\u001b[0;31m                 \u001b[0;32mraise\u001b[0m \u001b[0mKeyError\u001b[0m\u001b[0;34m(\u001b[0m\u001b[0;34mf\"None of [{key}] are in the [{axis_name}]\"\u001b[0m\u001b[0;34m)\u001b[0m\u001b[0;34m\u001b[0m\u001b[0;34m\u001b[0m\u001b[0m\n\u001b[0m\u001b[1;32m   6250\u001b[0m \u001b[0;34m\u001b[0m\u001b[0m\n\u001b[1;32m   6251\u001b[0m             \u001b[0mnot_found\u001b[0m \u001b[0;34m=\u001b[0m \u001b[0mlist\u001b[0m\u001b[0;34m(\u001b[0m\u001b[0mensure_index\u001b[0m\u001b[0;34m(\u001b[0m\u001b[0mkey\u001b[0m\u001b[0;34m)\u001b[0m\u001b[0;34m[\u001b[0m\u001b[0mmissing_mask\u001b[0m\u001b[0;34m.\u001b[0m\u001b[0mnonzero\u001b[0m\u001b[0;34m(\u001b[0m\u001b[0;34m)\u001b[0m\u001b[0;34m[\u001b[0m\u001b[0;36m0\u001b[0m\u001b[0;34m]\u001b[0m\u001b[0;34m]\u001b[0m\u001b[0;34m.\u001b[0m\u001b[0munique\u001b[0m\u001b[0;34m(\u001b[0m\u001b[0;34m)\u001b[0m\u001b[0;34m)\u001b[0m\u001b[0;34m\u001b[0m\u001b[0;34m\u001b[0m\u001b[0m\n",
            "\u001b[0;31mKeyError\u001b[0m: \"None of [Index(['Kualitas_Pelayanan_Akademik'], dtype='object')] are in the [columns]\""
          ]
        }
      ],
      "source": [
        "from sklearn.linear_model import LinearRegression\n",
        "from sklearn.metrics import r2_score\n",
        "from sklearn.model_selection import LeaveOneOut\n",
        "import numpy as np\n",
        "\n",
        "# Model regresi untuk menghitung R²\n",
        "X = df_standardized[[\"Kualitas_Pelayanan_Akademik\"]]\n",
        "y = df_standardized[\"Kepuasan_Mahasiswa\"]\n",
        "\n",
        "# Jumlah sampel (n) dan jumlah variabel independen (k)\n",
        "n = X.shape[0]  # Jumlah baris (sampel)\n",
        "k = X.shape[1]  # Jumlah prediktor\n",
        "\n",
        "# Buat model regresi\n",
        "model_reg = LinearRegression()\n",
        "model_reg.fit(X, y)\n",
        "y_pred = model_reg.predict(X)\n",
        "\n",
        "# Hitung R²\n",
        "r_squared = r2_score(y, y_pred)\n",
        "\n",
        "# Hitung Adjusted R²\n",
        "adjusted_r_squared = 1 - ((1 - r_squared) * (n - 1) / (n - k - 1))\n",
        "\n",
        "# Q² menggunakan metode Leave-One-Out Cross Validation (LOO-CV)\n",
        "loo = LeaveOneOut()\n",
        "y_actual, y_predicted = [], []\n",
        "\n",
        "for train_index, test_index in loo.split(X):\n",
        "    X_train, X_test = X.iloc[train_index], X.iloc[test_index]\n",
        "    y_train, y_test = y.iloc[train_index], y.iloc[test_index]\n",
        "\n",
        "    model_reg.fit(X_train, y_train)\n",
        "    y_pred_loo = model_reg.predict(X_test)\n",
        "\n",
        "    y_actual.append(y_test.values[0])\n",
        "    y_predicted.append(y_pred_loo[0])\n",
        "\n",
        "# Hitung Q²\n",
        "ss_residual = np.sum((np.array(y_actual) - np.array(y_predicted))**2)\n",
        "ss_total = np.sum((y - y.mean())**2)\n",
        "q_squared = 1 - (ss_residual / ss_total)\n",
        "\n",
        "# Tampilkan hasil\n",
        "\n",
        "# print(f\"Adjusted Q² = {adjusted_r_squared:.3f}\")\n",
        "print(f\"Q² (Predictive Relevance) = {q_squared:.3f}\")\n"
      ]
    },
    {
      "cell_type": "markdown",
      "metadata": {
        "id": "mLWI7RFggSE4"
      },
      "source": [
        "# Pengujian Hipotesis"
      ]
    },
    {
      "cell_type": "code",
      "execution_count": null,
      "metadata": {
        "colab": {
          "base_uri": "https://localhost:8080/"
        },
        "id": "EFLc43Cik8sB",
        "outputId": "00b49806-83e0-405d-c83a-7a8f4a7ee04c"
      },
      "outputs": [
        {
          "output_type": "stream",
          "name": "stdout",
          "text": [
            "\n",
            "=== Hasil Asli dari model.inspect() ===\n",
            "                           lval  op                         rval  \\\n",
            "0            Kepuasan_Mahasiswa   ~  Kualitas_Pelayanan_Akademik   \n",
            "1                          KPA1   ~  Kualitas_Pelayanan_Akademik   \n",
            "2                          KPA2   ~  Kualitas_Pelayanan_Akademik   \n",
            "3                          KPA3   ~  Kualitas_Pelayanan_Akademik   \n",
            "4                          KPA4   ~  Kualitas_Pelayanan_Akademik   \n",
            "5                          KPA5   ~  Kualitas_Pelayanan_Akademik   \n",
            "6                          KPA6   ~  Kualitas_Pelayanan_Akademik   \n",
            "7                          KPA7   ~  Kualitas_Pelayanan_Akademik   \n",
            "8                          KPA8   ~  Kualitas_Pelayanan_Akademik   \n",
            "9                          KPA9   ~  Kualitas_Pelayanan_Akademik   \n",
            "10                        KPA10   ~  Kualitas_Pelayanan_Akademik   \n",
            "11                        KPA11   ~  Kualitas_Pelayanan_Akademik   \n",
            "12                        KPA12   ~  Kualitas_Pelayanan_Akademik   \n",
            "13                        KPA13   ~  Kualitas_Pelayanan_Akademik   \n",
            "14                        KPA14   ~  Kualitas_Pelayanan_Akademik   \n",
            "15                        KPA15   ~  Kualitas_Pelayanan_Akademik   \n",
            "16                          KM1   ~           Kepuasan_Mahasiswa   \n",
            "17                          KM2   ~           Kepuasan_Mahasiswa   \n",
            "18                          KM3   ~           Kepuasan_Mahasiswa   \n",
            "19           Kepuasan_Mahasiswa  ~~           Kepuasan_Mahasiswa   \n",
            "20  Kualitas_Pelayanan_Akademik  ~~  Kualitas_Pelayanan_Akademik   \n",
            "21                          KM1  ~~                          KM1   \n",
            "22                          KM2  ~~                          KM2   \n",
            "23                          KM3  ~~                          KM3   \n",
            "24                         KPA1  ~~                         KPA1   \n",
            "25                        KPA10  ~~                        KPA10   \n",
            "26                        KPA11  ~~                        KPA11   \n",
            "27                        KPA12  ~~                        KPA12   \n",
            "28                        KPA13  ~~                        KPA13   \n",
            "29                        KPA14  ~~                        KPA14   \n",
            "30                        KPA15  ~~                        KPA15   \n",
            "31                         KPA2  ~~                         KPA2   \n",
            "32                         KPA3  ~~                         KPA3   \n",
            "33                         KPA4  ~~                         KPA4   \n",
            "34                         KPA5  ~~                         KPA5   \n",
            "35                         KPA6  ~~                         KPA6   \n",
            "36                         KPA7  ~~                         KPA7   \n",
            "37                         KPA8  ~~                         KPA8   \n",
            "38                         KPA9  ~~                         KPA9   \n",
            "\n",
            "        Estimate      Est. Std  Std. Err    z-value p-value  \n",
            "0   1.220665e+00  1.000000e+00  0.084292   14.48144     0.0  \n",
            "1   8.000000e-01  7.779731e-01         -          -       -  \n",
            "2   7.577645e-01  7.368896e-01  0.066762  11.350304     0.0  \n",
            "3   8.190782e-01  7.965346e-01  0.065466  12.511419     0.0  \n",
            "4   8.605220e-01  8.368249e-01  0.064523  13.336689     0.0  \n",
            "5   8.067089e-01  7.844977e-01  0.065738   12.27155     0.0  \n",
            "6   8.091185e-01  7.868331e-01  0.065687   12.31786     0.0  \n",
            "7   8.633579e-01  8.396032e-01  0.064454   13.39493     0.0  \n",
            "8   8.424789e-01  8.192987e-01  0.064939  12.973329     0.0  \n",
            "9   8.656877e-01  8.418558e-01    0.0644  13.442284     0.0  \n",
            "10  7.388907e-01  7.185582e-01  0.067132  11.006454     0.0  \n",
            "11  6.977505e-01  6.785219e-01  0.067911  10.274494     0.0  \n",
            "12  7.068243e-01  6.873483e-01  0.067744  10.433721     0.0  \n",
            "13  7.780653e-01  7.566428e-01  0.066346  11.727413     0.0  \n",
            "14  7.400635e-01  7.196822e-01  0.067112  11.027373     0.0  \n",
            "15  6.518950e-01  6.339308e-01  0.068713   9.487157     0.0  \n",
            "16  7.500000e-01  8.902779e-01         -          -       -  \n",
            "17  5.460535e-01  6.481707e-01  0.050466  10.820141     0.0  \n",
            "18  5.689677e-01  6.753799e-01  0.049497  11.494948     0.0  \n",
            "19  1.378072e-18  9.780370e-19   0.04443        0.0     1.0  \n",
            "20  9.456347e-01  1.000000e+00  0.145117   6.516345     0.0  \n",
            "21  2.073994e-01  2.074052e-01  0.032442   6.392959     0.0  \n",
            "22  5.798855e-01  5.798747e-01   0.06018   9.635812     0.0  \n",
            "23  5.438564e-01  5.438620e-01  0.056894   9.559049     0.0  \n",
            "24  3.947345e-01  3.947579e-01  0.041753   9.454137     0.0  \n",
            "25  4.836294e-01  4.836741e-01  0.050272   9.620276     0.0  \n",
            "26  5.396029e-01  5.396080e-01  0.055648   9.696634     0.0  \n",
            "27  5.275435e-01  5.275524e-01   0.05449    9.68155     0.0  \n",
            "28  4.274657e-01  4.274916e-01  0.044886   9.523374     0.0  \n",
            "29  4.820354e-01  4.820576e-01  0.050119   9.617805     0.0  \n",
            "30  5.981248e-01  5.981317e-01  0.061276   9.761189     0.0  \n",
            "31  4.569802e-01  4.569938e-01  0.047715   9.577241     0.0  \n",
            "32  3.655029e-01  3.655326e-01  0.038959   9.381791     0.0  \n",
            "33  2.997090e-01  2.997241e-01  0.032695   9.166937     0.0  \n",
            "34  3.845400e-01  3.845633e-01  0.040778   9.430156     0.0  \n",
            "35  3.808782e-01  3.808936e-01  0.040428   9.421208     0.0  \n",
            "36  2.950373e-01  2.950665e-01  0.032251    9.14808     0.0  \n",
            "37  3.287172e-01  3.287497e-01  0.035451   9.272356     0.0  \n",
            "38  2.912590e-01  2.912788e-01  0.031893   9.132298     0.0  \n",
            "\n",
            "=== Hasil Akhir Setelah Filter ===\n",
            "Empty DataFrame\n",
            "Columns: [Variabel Independen, Variabel Dependen, Koefisien Jalur (β), Standard Error, p-value, t-statistic]\n",
            "Index: []\n"
          ]
        }
      ],
      "source": [
        "import pandas as pd\n",
        "import numpy as np\n",
        "from semopy import Model\n",
        "\n",
        "# Definisi model SEM\n",
        "\n",
        "model_path = \"\"\"\n",
        "Kualitas_Pelayanan_Akademik =~ 0.8*KPA1 +KPA2 + KPA3 + KPA4 + KPA5 + KPA6 + KPA7 + KPA8 + KPA9 + KPA10 + KPA11 + KPA12 + KPA13  + KPA14 + KPA15\n",
        "Kepuasan_Mahasiswa =~ 0.75*KM1 + KM2 + KM3\n",
        "Kepuasan_Mahasiswa ~ Kualitas_Pelayanan_Akademik\n",
        "\"\"\"\n",
        "\n",
        "\n",
        "# Jalankan Model\n",
        "model = Model(model_path)\n",
        "model.fit(df_standardized)\n",
        "\n",
        "# Ambil semua hasil estimasi tanpa filter dulu\n",
        "summary = model.inspect(std_est=True)\n",
        "\n",
        "# Tampilkan hasil sebelum filtering\n",
        "print(\"\\n=== Hasil Asli dari model.inspect() ===\")\n",
        "print(summary)\n",
        "\n",
        "# Pastikan kolom yang dibutuhkan ada\n",
        "expected_cols = [\"lval\", \"rval\", \"Estimate\", \"Std. Err\", \"p-value\"]\n",
        "missing_cols = [col for col in expected_cols if col not in summary.columns]\n",
        "if missing_cols:\n",
        "    print(f\"\\n⚠️  Kolom hilang dalam output: {missing_cols}\")\n",
        "\n",
        "# Filter hanya hubungan yang diinginkan\n",
        "summary = summary[[\"lval\", \"rval\", \"Estimate\", \"Std. Err\", \"p-value\"]].copy()\n",
        "\n",
        "# Pastikan semua kolom numerik untuk menghindari error\n",
        "summary[\"Estimate\"] = pd.to_numeric(summary[\"Estimate\"], errors=\"coerce\")\n",
        "summary[\"Std. Err\"] = pd.to_numeric(summary[\"Std. Err\"], errors=\"coerce\")\n",
        "summary[\"p-value\"] = pd.to_numeric(summary[\"p-value\"], errors=\"coerce\")\n",
        "\n",
        "# Hitung t-statistic jika Std. Err ada\n",
        "summary[\"t-statistic\"] = summary[\"Estimate\"] / summary[\"Std. Err\"]\n",
        "\n",
        "# Ubah nama kolom agar lebih rapi\n",
        "summary.rename(columns={\n",
        "    \"lval\": \"Variabel Independen\",\n",
        "    \"rval\": \"Variabel Dependen\",\n",
        "    \"Estimate\": \"Koefisien Jalur (β)\",\n",
        "    \"Std. Err\": \"Standard Error\",\n",
        "    \"p-value\": \"p-value\"\n",
        "}, inplace=True)\n",
        "\n",
        "# **PASTIKAN URUTAN YANG BENAR**\n",
        "# Sekarang filter dengan urutan yang benar\n",
        "summary = summary[\n",
        "    (summary[\"Variabel Independen\"] == \"Kualitas_Pelayanan_Akademik\") &\n",
        "    (summary[\"Variabel Dependen\"] == \"Kepuasan_Mahasiswa\")\n",
        "]\n",
        "\n",
        "# Reset index agar rapi\n",
        "summary.reset_index(drop=True, inplace=True)\n",
        "\n",
        "# Tampilkan hasil akhir\n",
        "print(\"\\n=== Hasil Akhir Setelah Filter ===\")\n",
        "print(summary)\n"
      ]
    },
    {
      "cell_type": "code",
      "execution_count": null,
      "metadata": {
        "colab": {
          "base_uri": "https://localhost:8080/"
        },
        "id": "Re7X7msi_27g",
        "outputId": "04932f82-7e27-4381-f4f1-9c17250a3cc2"
      },
      "outputs": [
        {
          "output_type": "stream",
          "name": "stdout",
          "text": [
            "              Variabel Dependen          Variabel Independen Standard Error  \\\n",
            "0            Kepuasan_Mahasiswa  Kualitas_Pelayanan_Akademik       0.084292   \n",
            "1                           KM1           Kepuasan_Mahasiswa              -   \n",
            "2                           KM2           Kepuasan_Mahasiswa       0.050466   \n",
            "3                           KM3           Kepuasan_Mahasiswa       0.049497   \n",
            "4                          KPA1  Kualitas_Pelayanan_Akademik              -   \n",
            "5                          KPA2  Kualitas_Pelayanan_Akademik       0.066762   \n",
            "6                          KPA3  Kualitas_Pelayanan_Akademik       0.065466   \n",
            "7                          KPA4  Kualitas_Pelayanan_Akademik       0.064523   \n",
            "8                          KPA5  Kualitas_Pelayanan_Akademik       0.065738   \n",
            "9                          KPA6  Kualitas_Pelayanan_Akademik       0.065687   \n",
            "10                         KPA7  Kualitas_Pelayanan_Akademik       0.064454   \n",
            "11                         KPA8  Kualitas_Pelayanan_Akademik       0.064939   \n",
            "12                         KPA9  Kualitas_Pelayanan_Akademik         0.0644   \n",
            "13                        KPA10  Kualitas_Pelayanan_Akademik       0.067132   \n",
            "14                        KPA11  Kualitas_Pelayanan_Akademik       0.067911   \n",
            "15                        KPA12  Kualitas_Pelayanan_Akademik       0.067744   \n",
            "16                        KPA13  Kualitas_Pelayanan_Akademik       0.066346   \n",
            "17                        KPA14  Kualitas_Pelayanan_Akademik       0.067112   \n",
            "18                        KPA15  Kualitas_Pelayanan_Akademik       0.068713   \n",
            "19           Kepuasan_Mahasiswa           Kepuasan_Mahasiswa        0.04443   \n",
            "20  Kualitas_Pelayanan_Akademik  Kualitas_Pelayanan_Akademik       0.145117   \n",
            "\n",
            "   p-value t-statistic  Standard Deviation  \n",
            "0      0.0    14.48144            0.650208  \n",
            "1        -           -            0.634657  \n",
            "2      0.0   10.820141            0.670633  \n",
            "3      0.0   11.494948            0.645335  \n",
            "4        -           -            0.617480  \n",
            "5      0.0   11.350304            0.673083  \n",
            "6      0.0   12.511419            0.640665  \n",
            "7      0.0   13.336689            0.622828  \n",
            "8      0.0    12.27155            0.707746  \n",
            "9      0.0    12.31786            0.662264  \n",
            "10     0.0    13.39493            0.683455  \n",
            "11     0.0   12.973329            0.701470  \n",
            "12     0.0   13.442284            0.657084  \n",
            "13     0.0   11.006454            0.690495  \n",
            "14     0.0   10.274494            0.685749  \n",
            "15     0.0   10.433721            0.696798  \n",
            "16     0.0   11.727413            0.786171  \n",
            "17     0.0   11.027373            0.637501  \n",
            "18     0.0    9.487157            0.617988  \n",
            "19     1.0         0.0            0.650208  \n",
            "20     0.0    6.516345            0.672052  \n"
          ]
        }
      ],
      "source": [
        "import pandas as pd\n",
        "import numpy as np\n",
        "from semopy import Model\n",
        "\n",
        "# Definisi model SEM\n",
        "model_desc = \"\"\"\n",
        "Kepuasan_Mahasiswa =~ 0.75*KM1 + KM2 + KM3\n",
        "Kualitas_Pelayanan_Akademik =~ 0.8*KPA1 + KPA2 + KPA3 + KPA4 + KPA5 + KPA6 + KPA7 + KPA8 + KPA9 + KPA10 + KPA11 + KPA12 + KPA13 + KPA14 + KPA15\n",
        "Kepuasan_Mahasiswa ~ Kualitas_Pelayanan_Akademik\n",
        "\"\"\"\n",
        "\n",
        "# Jalankan Model\n",
        "model = Model(model_desc)\n",
        "model.fit(df_standardized)\n",
        "\n",
        "# hasil estimasi\n",
        "summary = model.inspect(std_est=True)[[\"lval\", \"rval\", \"Std. Err\", \"p-value\", \"z-value\"]]\n",
        "\n",
        "# Daftar indikator untuk setiap variabel laten\n",
        "indikator = {\n",
        "    \"Kepuasan_Mahasiswa\": [\"KM1\", \"KM2\", \"KM3\"],\n",
        "    \"Kualitas_Pelayanan_Akademik\": [\"KPA1\", \"KPA2\", \"KPA3\", \"KPA4\", \"KPA5\",\n",
        "                                    \"KPA6\", \"KPA7\", \"KPA8\", \"KPA9\", \"KPA10\",\n",
        "                                    \"KPA11\", \"KPA12\", \"KPA13\", \"KPA14\", \"KPA15\"]\n",
        "}\n",
        "# Hitung Standard Deviation dari indikator\n",
        "std_dev_values = {col: df[col].std() for col in df.columns}\n",
        "\n",
        "# Fungsi untuk mendapatkan standard deviation variabel independen\n",
        "def get_std_laten(var):\n",
        "    if var in indikator:\n",
        "        return np.nanmean([std_dev_values.get(ind, np.nan) for ind in indikator[var]])\n",
        "    return std_dev_values.get(var, np.nan)\n",
        "\n",
        "\n",
        "summary[\"Standard Deviation\"] = summary[\"lval\"].apply(get_std_laten)\n",
        "\n",
        "\n",
        "summary.rename(columns={\n",
        "    \"lval\": \"Variabel Dependen\",\n",
        "    \"rval\": \"Variabel Independen\",\n",
        "    \"Std. Err\": \"Standard Error\",\n",
        "    \"z-value\": \"t-statistic\",\n",
        "    \"p-value\": \"p-value\",\n",
        "    \"Standard Deviation\": \"Standard Deviation\"\n",
        "}, inplace=True)\n",
        "\n",
        "\n",
        "filtered_summary = summary[\n",
        "    (summary[\"Variabel Independen\"].isin([\"Kepuasan_Mahasiswa\", \"Kualitas_Pelayanan_Akademik\"])) |\n",
        "    (summary[\"Variabel Dependen\"].isin([\"Kepuasan_Mahasiswa\", \"Kualitas_Pelayanan_Akademik\"]))\n",
        "]\n",
        "# Tampilkan hasil yang sudah difilter\n",
        "print(filtered_summary)\n"
      ]
    },
    {
      "cell_type": "markdown",
      "metadata": {
        "id": "BP_BOJM66mmO"
      },
      "source": [
        "# Goodness Of Fit"
      ]
    },
    {
      "cell_type": "code",
      "execution_count": null,
      "metadata": {
        "colab": {
          "base_uri": "https://localhost:8080/"
        },
        "id": "vRlfO08b5vwp",
        "outputId": "08bf4b6f-d4fc-4d39-bda6-7c172760feb2"
      },
      "outputs": [
        {
          "output_type": "stream",
          "name": "stdout",
          "text": [
            "\n",
            "=== Goodness-of-Fit Indices ===\n",
            "Chi-Square: 53.7310, p-value: 0.0011\n",
            "RMSEA: 0.0732\n",
            "CFI: 0.9770\n",
            "TLI (NNFI): 0.9682\n",
            "AIC: 37.4627, BIC: 100.1307\n"
          ]
        }
      ],
      "source": [
        "import pandas as pd\n",
        "import numpy as np\n",
        "import semopy\n",
        "\n",
        "# Definisi Model SEM\n",
        "model_sea = \"\"\"\n",
        "Kualitas_Pelayanan_Akademik =~ KPA1 +KPA2  + KPA4 + KPA5 + KPA6  + KPA8  + KPA10\n",
        "Kepuasan_Mahasiswa =~ KM1  + KM3\n",
        "Kepuasan_Mahasiswa ~ Kualitas_Pelayanan_Akademik\n",
        "\"\"\"\n",
        "\n",
        "# Membuat model SEM\n",
        "model = semopy.Model(model_sea)\n",
        "\n",
        "# Melatih model\n",
        "model.fit(df_standardized)\n",
        "\n",
        "# Mendapatkan hasil estimasi parameter\n",
        "estimates = model.inspect()\n",
        "\n",
        "# Menghitung Goodness-of-Fit Indices\n",
        "gof = semopy.calc_stats(model)\n",
        "\n",
        "\n",
        "# Menampilkan hasil\n",
        "# print(\"\\n=== Hasil Estimasi Parameter ===\\n\", estimates)\n",
        "print(\"\\n=== Goodness-of-Fit Indices ===\")\n",
        "print(f\"Chi-Square: {gof.loc['Value', 'chi2']:.4f}, p-value: {gof.loc['Value', 'chi2 p-value']:.4f}\")\n",
        "print(f\"RMSEA: {gof.loc['Value', 'RMSEA']:.4f}\")\n",
        "print(f\"CFI: {gof.loc['Value', 'CFI']:.4f}\")\n",
        "print(f\"TLI (NNFI): {gof.loc['Value', 'TLI']:.4f}\")\n",
        "print(f\"AIC: {gof.loc['Value', 'AIC']:.4f}, BIC: {gof.loc['Value', 'BIC']:.4f}\")\n"
      ]
    },
    {
      "cell_type": "code",
      "execution_count": null,
      "metadata": {
        "colab": {
          "base_uri": "https://localhost:8080/",
          "height": 507
        },
        "id": "RjQBbhNUHPwp",
        "outputId": "c4bd9bc3-6370-407e-f33d-fd4f64ba091a"
      },
      "outputs": [
        {
          "data": {
            "image/png": "[encoded data removed]",
            "text/plain": [
              "<Figure size 1200x500 with 2 Axes>"
            ]
          },
          "metadata": {},
          "output_type": "display_data"
        }
      ],
      "source": [
        "import numpy as np\n",
        "import pandas as pd\n",
        "import matplotlib.pyplot as plt\n",
        "import seaborn as sns\n",
        "from scipy.stats import t\n",
        "\n",
        "# Simulasi data t-statistic dan p-value\n",
        "np.random.seed(42)\n",
        "t_stats = np.random.normal(loc=0, scale=2, size=1000)  # Simulasi t-statistic\n",
        "p_values = 2 * (1 - t.cdf(abs(t_stats), df=30))  # Hitung p-value\n",
        "\n",
        "# Membuat DataFrame\n",
        "df = pd.DataFrame({'t-statistic': t_stats, 'p-value': p_values})\n",
        "\n",
        "# Plot Distribusi t-statistic\n",
        "plt.figure(figsize=(12, 5))\n",
        "\n",
        "# Histogram t-statistic\n",
        "plt.subplot(1, 2, 1)\n",
        "sns.histplot(df['t-statistic'], bins=30, kde=True, color='blue')\n",
        "plt.axvline(x=2, color='red', linestyle='--', label='Threshold t=2')\n",
        "plt.axvline(x=-2, color='red', linestyle='--')\n",
        "plt.title('Distribusi t-statistic')\n",
        "plt.xlabel('t-statistic')\n",
        "plt.ylabel('Frekuensi')\n",
        "plt.legend()\n",
        "\n",
        "# Scatter Plot t-statistic vs p-value\n",
        "plt.subplot(1, 2, 2)\n",
        "sns.scatterplot(x=df['t-statistic'], y=df['p-value'], color='purple')\n",
        "plt.axhline(y=0.05, color='red', linestyle='--', label='Alpha = 0.05')\n",
        "plt.title('Hubungan t-statistic dan p-value')\n",
        "plt.xlabel('t-statistic')\n",
        "plt.ylabel('p-value')\n",
        "plt.legend()\n",
        "\n",
        "plt.tight_layout()\n",
        "plt.show()\n"
      ]
    }
  ],
  "metadata": {
    "colab": {
      "collapsed_sections": [
        "09lMfOOVgMge"
      ],
      "provenance": [],
      "toc_visible": true,
      "authorship_tag": "ABX9TyOd3EojA63nadkdNOsPYvrP",
      "include_colab_link": true
    },
    "kernelspec": {
      "display_name": "Python 3",
      "name": "python3"
    },
    "language_info": {
      "name": "python"
    }
  },
  "nbformat": 4,
  "nbformat_minor": 0
}